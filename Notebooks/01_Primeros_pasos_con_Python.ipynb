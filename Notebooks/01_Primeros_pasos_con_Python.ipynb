{
  "nbformat": 4,
  "nbformat_minor": 0,
  "metadata": {
    "colab": {
      "name": "01_Primeros_pasos_con_Python.ipynb",
      "provenance": [],
      "collapsed_sections": [
        "2iVv8iF2pOkW",
        "lNOz3iqn6agx",
        "bM2NdrJ-qvIn"
      ],
      "mount_file_id": "14zadTiFj2allXw61yENJ6aJgFZdqPXHq",
      "authorship_tag": "ABX9TyPbRjUB6L04eAZzmaufcvic",
      "include_colab_link": true
    },
    "kernelspec": {
      "name": "python3",
      "display_name": "Python 3"
    },
    "language_info": {
      "name": "python"
    }
  },
  "cells": [
    {
      "cell_type": "markdown",
      "metadata": {
        "id": "view-in-github",
        "colab_type": "text"
      },
      "source": [
        "<a href=\"https://colab.research.google.com/github/Geofgabriel/Intro-Python-para-algebra-lineal/blob/main/Notebooks/01_Primeros_pasos_con_Python.ipynb\" target=\"_parent\"><img src=\"https://colab.research.google.com/assets/colab-badge.svg\" alt=\"Open In Colab\"/></a>"
      ]
    },
    {
      "cell_type": "markdown",
      "metadata": {
        "id": "sqTNkadS6E9_"
      },
      "source": [
        "# PRIMEROS PASOS EN PYTHON\n",
        "\n",
        "Primero: *repaso por el entorno de la notebook*\n",
        "\n",
        "Segundo: hablemos un poco de los datos (y tipos de datos) que podemos encontrarnos."
      ]
    },
    {
      "cell_type": "code",
      "metadata": {
        "colab": {
          "base_uri": "https://localhost:8080/",
          "height": 53
        },
        "id": "BjLOOLRQ44ef",
        "outputId": "2c0dc683-5dff-414c-a7b9-795e42ecd020"
      },
      "source": [
        "t = 'hello world!'\n",
        "print(t)\n",
        "t"
      ],
      "execution_count": 3,
      "outputs": [
        {
          "output_type": "stream",
          "text": [
            "hello world!\n"
          ],
          "name": "stdout"
        },
        {
          "output_type": "execute_result",
          "data": {
            "application/vnd.google.colaboratory.intrinsic+json": {
              "type": "string"
            },
            "text/plain": [
              "'hello world!'"
            ]
          },
          "metadata": {},
          "execution_count": 3
        }
      ]
    },
    {
      "cell_type": "code",
      "metadata": {
        "colab": {
          "base_uri": "https://localhost:8080/"
        },
        "id": "M_jns1dV0hv3",
        "outputId": "09c6367d-51ee-4fa5-b32d-40017b629b2b"
      },
      "source": [
        "p = 2\n",
        "print(p)\n",
        "p"
      ],
      "execution_count": 4,
      "outputs": [
        {
          "output_type": "stream",
          "text": [
            "2\n"
          ],
          "name": "stdout"
        },
        {
          "output_type": "execute_result",
          "data": {
            "text/plain": [
              "2"
            ]
          },
          "metadata": {},
          "execution_count": 4
        }
      ]
    },
    {
      "cell_type": "markdown",
      "metadata": {
        "id": "74m_x7vu4lOG"
      },
      "source": [
        "A continuación veamos las operaciones básicas en Python"
      ]
    },
    {
      "cell_type": "code",
      "metadata": {
        "colab": {
          "base_uri": "https://localhost:8080/"
        },
        "id": "kEEHIbHs6OUd",
        "outputId": "3d005f1e-4e0f-4f2b-fb18-99b988232c53"
      },
      "source": [
        "1+1"
      ],
      "execution_count": 5,
      "outputs": [
        {
          "output_type": "execute_result",
          "data": {
            "text/plain": [
              "2"
            ]
          },
          "metadata": {},
          "execution_count": 5
        }
      ]
    },
    {
      "cell_type": "code",
      "metadata": {
        "colab": {
          "base_uri": "https://localhost:8080/"
        },
        "id": "uIUBWi6x6RWE",
        "outputId": "60de8824-92bf-45e8-e469-68e53360a633"
      },
      "source": [
        "5*8"
      ],
      "execution_count": 6,
      "outputs": [
        {
          "output_type": "execute_result",
          "data": {
            "text/plain": [
              "40"
            ]
          },
          "metadata": {},
          "execution_count": 6
        }
      ]
    },
    {
      "cell_type": "code",
      "metadata": {
        "colab": {
          "base_uri": "https://localhost:8080/"
        },
        "id": "ysE7EgUX6WtN",
        "outputId": "727c59ae-192c-435b-d137-923fb4ea6a86"
      },
      "source": [
        "4.5/2"
      ],
      "execution_count": 7,
      "outputs": [
        {
          "output_type": "execute_result",
          "data": {
            "text/plain": [
              "2.25"
            ]
          },
          "metadata": {},
          "execution_count": 7
        }
      ]
    },
    {
      "cell_type": "code",
      "metadata": {
        "colab": {
          "base_uri": "https://localhost:8080/"
        },
        "id": "RfXuAJpg6hTX",
        "outputId": "97c6adb6-f9b5-405d-9be2-069bb2be45f9"
      },
      "source": [
        "5*2+10-(10/5)"
      ],
      "execution_count": 8,
      "outputs": [
        {
          "output_type": "execute_result",
          "data": {
            "text/plain": [
              "18.0"
            ]
          },
          "metadata": {},
          "execution_count": 8
        }
      ]
    },
    {
      "cell_type": "code",
      "metadata": {
        "colab": {
          "base_uri": "https://localhost:8080/"
        },
        "id": "afZn_CEM-pQU",
        "outputId": "e90f3e8f-6164-472c-a26a-c1e1c742f8fb"
      },
      "source": [
        "4**2"
      ],
      "execution_count": 9,
      "outputs": [
        {
          "output_type": "execute_result",
          "data": {
            "text/plain": [
              "16"
            ]
          },
          "metadata": {},
          "execution_count": 9
        }
      ]
    },
    {
      "cell_type": "markdown",
      "metadata": {
        "id": "4sV-0Pfs9wps"
      },
      "source": [
        "Ahora...Que pasa con una raíz cuadrada?\n",
        "\n",
        "$$\\sqrt{2} = 2^{(\\frac{1}{2})}$$"
      ]
    },
    {
      "cell_type": "code",
      "metadata": {
        "colab": {
          "base_uri": "https://localhost:8080/"
        },
        "id": "RaOtii1E-vt7",
        "outputId": "8f8e9aec-1f7d-413f-95c0-01cdb77c2cd7"
      },
      "source": [
        "4**(1/2)"
      ],
      "execution_count": 10,
      "outputs": [
        {
          "output_type": "execute_result",
          "data": {
            "text/plain": [
              "2.0"
            ]
          },
          "metadata": {},
          "execution_count": 10
        }
      ]
    },
    {
      "cell_type": "markdown",
      "metadata": {
        "id": "k0vsc-nL_gzx"
      },
      "source": [
        "Otra opción es utilizar alguna librería...esta cuenta es muy sencilla y no trae problemas en cuanto a su lectura en el programa y no interesa su performance del cálculo. No obstante, en otras situaciones es conveniente utilizar otras opciones."
      ]
    },
    {
      "cell_type": "code",
      "metadata": {
        "colab": {
          "base_uri": "https://localhost:8080/",
          "height": 166
        },
        "id": "lV1ZREI39ZiW",
        "outputId": "576fb57f-1d3b-4b38-d235-7704887234c2"
      },
      "source": [
        "sqrt(4)"
      ],
      "execution_count": 11,
      "outputs": [
        {
          "output_type": "error",
          "ename": "NameError",
          "evalue": "ignored",
          "traceback": [
            "\u001b[0;31m---------------------------------------------------------------------------\u001b[0m",
            "\u001b[0;31mNameError\u001b[0m                                 Traceback (most recent call last)",
            "\u001b[0;32m<ipython-input-11-317e033d29d5>\u001b[0m in \u001b[0;36m<module>\u001b[0;34m()\u001b[0m\n\u001b[0;32m----> 1\u001b[0;31m \u001b[0msqrt\u001b[0m\u001b[0;34m(\u001b[0m\u001b[0;36m4\u001b[0m\u001b[0;34m)\u001b[0m\u001b[0;34m\u001b[0m\u001b[0;34m\u001b[0m\u001b[0m\n\u001b[0m",
            "\u001b[0;31mNameError\u001b[0m: name 'sqrt' is not defined"
          ]
        }
      ]
    },
    {
      "cell_type": "code",
      "metadata": {
        "colab": {
          "base_uri": "https://localhost:8080/"
        },
        "id": "OaukfCMf9ccq",
        "outputId": "f590a2f0-09e1-4a3d-f63e-cc1ceb0e3023"
      },
      "source": [
        "import math\n",
        "\n",
        "math.sqrt(4)"
      ],
      "execution_count": 12,
      "outputs": [
        {
          "output_type": "execute_result",
          "data": {
            "text/plain": [
              "2.0"
            ]
          },
          "metadata": {},
          "execution_count": 12
        }
      ]
    },
    {
      "cell_type": "markdown",
      "metadata": {
        "id": "81nJPLwV6dPS"
      },
      "source": [
        "Podemos ver que fácilmente se realiza cualquier tipo de operación básica. Uno de los fuertes de este lenguaje es la cantidad de librerías para hacer lo que se necesite (hay de todo!).\n",
        "\n",
        "Particularmente existen librerías con respectivos módulos para al cálculo numérico, con un fuerte foco en el álgebra lineal. \n",
        "Éste es nuestro interés, y para empezar a meternos de a poquito utilizaremos\n",
        "[Scipy](https://www.scipy.org/). En particular, los paquetes [Sympy](https://www.sympy.org/en/index.html) y [Numpy](https://numpy.org/doc/stable/index.html). \n",
        "\n",
        "Para poder utilizar estos paquetes se los convoca  mediante:\n",
        "\n",
        "\n",
        "\n",
        "```\n",
        "import sympy as sy\n",
        "import numpy as np\n",
        "import scipy as sp\n",
        "```\n",
        "\n",
        "Esto se hace solo una vez al principio del programa. Lo que estamos haciendo con el \"as np\", por ejemplo, es importar el módulo NumPy como una variable de nombre `np`. A esta variable la usaremos para llamar todas las funciones y objetos que tiene `NumPy`, `Scipy` o `Sympy`. Esto sirve también para *sp* y cualquier otro módulo que necesitemos. \n",
        "\n",
        "*Observación: Esto en realidad se puede realizar en cualquier parte del código pero antes de utilizar alguna de sus dependencias.*"
      ]
    },
    {
      "cell_type": "code",
      "metadata": {
        "id": "6tjQtl-bSzSe"
      },
      "source": [
        "import numpy as np # el símbolo # se utiliza para hacer comentarios en el código. Esta parte la pasa por el alto Python.\n",
        "\n",
        "# 2+3"
      ],
      "execution_count": 13,
      "outputs": []
    },
    {
      "cell_type": "code",
      "metadata": {
        "id": "SxkhUvI3pLGD"
      },
      "source": [
        ""
      ],
      "execution_count": 13,
      "outputs": []
    },
    {
      "cell_type": "markdown",
      "metadata": {
        "id": "2iVv8iF2pOkW"
      },
      "source": [
        "## Sympy\n",
        "\n",
        "Esta librería permite trabajar de manera simbólica. Esto es trata a los objetos matemáticos de forma simbólica. Esto significa que los objetos matemáticos se representan exactamente, no aproximadamente, y las expresiones matemáticas con variables no evaluadas se dejan en forma simbólica."
      ]
    },
    {
      "cell_type": "markdown",
      "metadata": {
        "id": "hc_hQ2M3tqE8"
      },
      "source": [
        "Veamos un ejemplo:"
      ]
    },
    {
      "cell_type": "code",
      "metadata": {
        "colab": {
          "base_uri": "https://localhost:8080/",
          "height": 37
        },
        "id": "AVJQbhHstuNY",
        "outputId": "fe7a63f4-cb71-4241-a7c2-66c8c0a788e6"
      },
      "source": [
        "import sympy as sy\n",
        "\n",
        "sy.sqrt(4)"
      ],
      "execution_count": 14,
      "outputs": [
        {
          "output_type": "execute_result",
          "data": {
            "text/latex": "$\\displaystyle 2$",
            "text/plain": [
              "2"
            ]
          },
          "metadata": {},
          "execution_count": 14
        }
      ]
    },
    {
      "cell_type": "markdown",
      "metadata": {
        "id": "viq5cElhuGXe"
      },
      "source": [
        "pero que pasa con $\\sqrt 3$ ?"
      ]
    },
    {
      "cell_type": "code",
      "metadata": {
        "colab": {
          "base_uri": "https://localhost:8080/"
        },
        "id": "6hhB-GG4uQ9V",
        "outputId": "d96b4408-19cb-4843-d2ed-8da32d5c7947"
      },
      "source": [
        "math.sqrt(3)"
      ],
      "execution_count": 15,
      "outputs": [
        {
          "output_type": "execute_result",
          "data": {
            "text/plain": [
              "1.7320508075688772"
            ]
          },
          "metadata": {},
          "execution_count": 15
        }
      ]
    },
    {
      "cell_type": "code",
      "metadata": {
        "colab": {
          "base_uri": "https://localhost:8080/",
          "height": 38
        },
        "id": "TQrjqCPTuX2h",
        "outputId": "0df4abe1-a7a1-4221-89cf-d65f9115aa61"
      },
      "source": [
        "sy.sqrt(3)"
      ],
      "execution_count": 16,
      "outputs": [
        {
          "output_type": "execute_result",
          "data": {
            "text/latex": "$\\displaystyle \\sqrt{3}$",
            "text/plain": [
              "sqrt(3)"
            ]
          },
          "metadata": {},
          "execution_count": 16
        }
      ]
    },
    {
      "cell_type": "markdown",
      "metadata": {
        "id": "sp6y9b2Ou1Rf"
      },
      "source": [
        "Conclusiones?\n",
        "\n",
        "\n",
        "\n",
        "\n",
        "\n",
        "\n",
        "\n"
      ]
    },
    {
      "cell_type": "markdown",
      "metadata": {
        "id": "4mNL6AinvJYg"
      },
      "source": [
        "Ahora bien, para comenzar necesitamos poder definir matrices y vectores"
      ]
    },
    {
      "cell_type": "code",
      "metadata": {
        "colab": {
          "base_uri": "https://localhost:8080/",
          "height": 78
        },
        "id": "Hd91IwROv9Us",
        "outputId": "ccee2881-21a4-4d5f-86d9-866be67c8d72"
      },
      "source": [
        "M = sy.Matrix([[1,0,0],[0,1,0],[0,0,1]])\n",
        "M"
      ],
      "execution_count": 17,
      "outputs": [
        {
          "output_type": "execute_result",
          "data": {
            "text/latex": "$\\displaystyle \\left[\\begin{matrix}1 & 0 & 0\\\\0 & 1 & 0\\\\0 & 0 & 1\\end{matrix}\\right]$",
            "text/plain": [
              "Matrix([\n",
              "[1, 0, 0],\n",
              "[0, 1, 0],\n",
              "[0, 0, 1]])"
            ]
          },
          "metadata": {},
          "execution_count": 17
        }
      ]
    },
    {
      "cell_type": "code",
      "metadata": {
        "colab": {
          "base_uri": "https://localhost:8080/"
        },
        "id": "njvMXgryxQ5S",
        "outputId": "c775c93a-4904-4e33-ffee-a3a64fd525ea"
      },
      "source": [
        "print('las dimensiones son:',M.shape)"
      ],
      "execution_count": 18,
      "outputs": [
        {
          "output_type": "stream",
          "text": [
            "las dimensiones son: (3, 3)\n"
          ],
          "name": "stdout"
        }
      ]
    },
    {
      "cell_type": "code",
      "metadata": {
        "colab": {
          "base_uri": "https://localhost:8080/",
          "height": 78
        },
        "id": "H91h5htLyS6F",
        "outputId": "1e1d08f7-8c57-45e4-a348-148c5cf24074"
      },
      "source": [
        "V = sy.Matrix([1,2,3])\n",
        "V"
      ],
      "execution_count": 19,
      "outputs": [
        {
          "output_type": "execute_result",
          "data": {
            "text/latex": "$\\displaystyle \\left[\\begin{matrix}1\\\\2\\\\3\\end{matrix}\\right]$",
            "text/plain": [
              "Matrix([\n",
              "[1],\n",
              "[2],\n",
              "[3]])"
            ]
          },
          "metadata": {},
          "execution_count": 19
        }
      ]
    },
    {
      "cell_type": "code",
      "metadata": {
        "colab": {
          "base_uri": "https://localhost:8080/"
        },
        "id": "w5dxZHXnyqSF",
        "outputId": "376ea864-0378-4cb5-846b-984e3809e14f"
      },
      "source": [
        "print('las dimensiones son:',V.shape)"
      ],
      "execution_count": 20,
      "outputs": [
        {
          "output_type": "stream",
          "text": [
            "las dimensiones son: (3, 1)\n"
          ],
          "name": "stdout"
        }
      ]
    },
    {
      "cell_type": "code",
      "metadata": {
        "colab": {
          "base_uri": "https://localhost:8080/",
          "height": 39
        },
        "id": "r__hX9yu3BWk",
        "outputId": "c6607b01-e152-4050-8e2a-1221a3322bed"
      },
      "source": [
        "B = sy.Matrix([1,2,3]).T\n",
        "B"
      ],
      "execution_count": 21,
      "outputs": [
        {
          "output_type": "execute_result",
          "data": {
            "text/latex": "$\\displaystyle \\left[\\begin{matrix}1 & 2 & 3\\end{matrix}\\right]$",
            "text/plain": [
              "Matrix([[1, 2, 3]])"
            ]
          },
          "metadata": {},
          "execution_count": 21
        }
      ]
    },
    {
      "cell_type": "code",
      "metadata": {
        "colab": {
          "base_uri": "https://localhost:8080/"
        },
        "id": "8_9jucBR3O4t",
        "outputId": "a3fc5fc0-ef13-4a3d-9445-d8292d123597"
      },
      "source": [
        "print('las dimensiones son:',B.shape)"
      ],
      "execution_count": 22,
      "outputs": [
        {
          "output_type": "stream",
          "text": [
            "las dimensiones son: (1, 3)\n"
          ],
          "name": "stdout"
        }
      ]
    },
    {
      "cell_type": "markdown",
      "metadata": {
        "id": "lNOz3iqn6agx"
      },
      "source": [
        "## Numpy\n",
        "NumPy es el paquete fundamental para el cómputo científico. A diferencia de Sympy, ahora podemos trabajar de forma \"exacta\". Numpy es una librería de Python que provee como elemento mas importante al objeto \n",
        "multidimensional *array*.\n",
        "Esto nos va a permitir representar vectores y matrices. Luego con ellos podemos realizar todo tipo de operaciones (aunque hay que tener cuidado con otros tipos de datos).\n",
        "\n",
        "### Vector y matrices"
      ]
    },
    {
      "cell_type": "code",
      "metadata": {
        "colab": {
          "base_uri": "https://localhost:8080/"
        },
        "id": "BKMVkzZ3SnIi",
        "outputId": "00690faa-7172-4846-f1ef-6cf09eb4fe77"
      },
      "source": [
        "u_fil = np.array([1,0,0])\n",
        "u_fil"
      ],
      "execution_count": 23,
      "outputs": [
        {
          "output_type": "execute_result",
          "data": {
            "text/plain": [
              "array([1, 0, 0])"
            ]
          },
          "metadata": {},
          "execution_count": 23
        }
      ]
    },
    {
      "cell_type": "markdown",
      "metadata": {
        "id": "mCAcV9abfPNU"
      },
      "source": [
        "otra forma, mas elegante, para poder ver lo que guardamos en *u* es utilizar print()"
      ]
    },
    {
      "cell_type": "code",
      "metadata": {
        "colab": {
          "base_uri": "https://localhost:8080/"
        },
        "id": "ssRM136ofcXU",
        "outputId": "0450170c-249d-4b6a-9914-d0bf672a9bcb"
      },
      "source": [
        "print('El vector es u =',u_fil)"
      ],
      "execution_count": 24,
      "outputs": [
        {
          "output_type": "stream",
          "text": [
            "El vector es u = [1 0 0]\n"
          ],
          "name": "stdout"
        }
      ]
    },
    {
      "cell_type": "code",
      "metadata": {
        "colab": {
          "base_uri": "https://localhost:8080/"
        },
        "id": "P6MOR7vi39RG",
        "outputId": "e9b24523-4260-4308-a6e8-2adc3c9bb63e"
      },
      "source": [
        "u_col = np.array([[1],[0],[0]])\n",
        "print('El vector es u =',u_col)"
      ],
      "execution_count": 25,
      "outputs": [
        {
          "output_type": "stream",
          "text": [
            "El vector es u = [[1]\n",
            " [0]\n",
            " [0]]\n"
          ],
          "name": "stdout"
        }
      ]
    },
    {
      "cell_type": "markdown",
      "metadata": {
        "id": "i2q4NKxnfVPP"
      },
      "source": [
        "Para representar una matriz lo hacemos de la siguiente forma:"
      ]
    },
    {
      "cell_type": "code",
      "metadata": {
        "colab": {
          "base_uri": "https://localhost:8080/"
        },
        "id": "5Lt6bKyykHv7",
        "outputId": "515e3cf6-7968-4280-d642-5c4445eb76f4"
      },
      "source": [
        "w = np.array(([1,0,0],[0,1,0],[0,0,1]))\n",
        "print('w =',w)"
      ],
      "execution_count": 26,
      "outputs": [
        {
          "output_type": "stream",
          "text": [
            "w = [[1 0 0]\n",
            " [0 1 0]\n",
            " [0 0 1]]\n"
          ],
          "name": "stdout"
        }
      ]
    },
    {
      "cell_type": "markdown",
      "metadata": {
        "id": "BD-T3OtOlrQN"
      },
      "source": [
        "Ahora, podemos ver que info tienen estas variables que definimos llamando a los atributos que tienen por ser parte de Numpy."
      ]
    },
    {
      "cell_type": "code",
      "metadata": {
        "colab": {
          "base_uri": "https://localhost:8080/"
        },
        "id": "QRLD6HSvl8cA",
        "outputId": "043ca653-e1f0-4159-f70b-badf77fa9546"
      },
      "source": [
        "u_col.ndim #vamos la dimensión"
      ],
      "execution_count": 28,
      "outputs": [
        {
          "output_type": "execute_result",
          "data": {
            "text/plain": [
              "2"
            ]
          },
          "metadata": {},
          "execution_count": 28
        }
      ]
    },
    {
      "cell_type": "code",
      "metadata": {
        "colab": {
          "base_uri": "https://localhost:8080/"
        },
        "id": "EDgqfNcbmEPA",
        "outputId": "0f301b1e-da17-42df-a15b-424c59bba92a"
      },
      "source": [
        "u_col.shape # la dimensión pero vista como una tupla"
      ],
      "execution_count": 30,
      "outputs": [
        {
          "output_type": "execute_result",
          "data": {
            "text/plain": [
              "(3, 1)"
            ]
          },
          "metadata": {},
          "execution_count": 30
        }
      ]
    },
    {
      "cell_type": "code",
      "metadata": {
        "colab": {
          "base_uri": "https://localhost:8080/"
        },
        "id": "fuiezUVbmN_g",
        "outputId": "a6dcd8c5-8d92-4e05-e5b4-984fbf402271"
      },
      "source": [
        "u_col.size # el tamaño del arreglo"
      ],
      "execution_count": 31,
      "outputs": [
        {
          "output_type": "execute_result",
          "data": {
            "text/plain": [
              "3"
            ]
          },
          "metadata": {},
          "execution_count": 31
        }
      ]
    },
    {
      "cell_type": "markdown",
      "metadata": {
        "id": "Me8STyQzmTaO"
      },
      "source": [
        "Lo mismo vale para matrices"
      ]
    },
    {
      "cell_type": "code",
      "metadata": {
        "colab": {
          "base_uri": "https://localhost:8080/"
        },
        "id": "IjZNAnXRmV2y",
        "outputId": "b6bd87d5-b1c1-4f8b-bc8f-ea8e83eb052f"
      },
      "source": [
        "print('dimensión de w:',w.ndim)\n",
        "print('la dimensión como tupla:',w.shape)\n",
        "print('el tamaño del arreglo w:',w.size)"
      ],
      "execution_count": 32,
      "outputs": [
        {
          "output_type": "stream",
          "text": [
            "dimensión de w: 2\n",
            "la dimensión como tupla: (3, 3)\n",
            "el tamaño del arreglo w: 9\n"
          ],
          "name": "stdout"
        }
      ]
    },
    {
      "cell_type": "markdown",
      "metadata": {
        "id": "4XMytVtZpD-2"
      },
      "source": [
        "Ahora bien, los arreglos se pueden crear de tres formas distintas:\n",
        "\n",
        "\n",
        "1.   Como lista o tupla que vimos recién \n",
        "2.   A partir de funciones de Numpy\n",
        "3.   Cargando un archivo\n",
        "\n",
        "\n",
        "\n"
      ]
    },
    {
      "cell_type": "markdown",
      "metadata": {
        "id": "87C6a00mlQ95"
      },
      "source": [
        "\n",
        "Entonces, el primer ítem ya lo vimos anteriormente. Podemos ver un ejemplo mas, pero ahora con números complejos. Obsevar que es recomendable, cuando se declara la variable *nro_c* especificar que tipo de dato se guardará en ella mediante *dytpe*."
      ]
    },
    {
      "cell_type": "code",
      "metadata": {
        "colab": {
          "base_uri": "https://localhost:8080/"
        },
        "id": "7Wa9MDwdrzdD",
        "outputId": "9b05aa65-f8e9-4563-a13a-cd463c026ef2"
      },
      "source": [
        "nro_c = np.array([1+1j,2j],dtype=complex)\n",
        "print('El nro complejo es:',nro_c)"
      ],
      "execution_count": 33,
      "outputs": [
        {
          "output_type": "stream",
          "text": [
            "El nro complejo es: [1.+1.j 0.+2.j]\n"
          ],
          "name": "stdout"
        }
      ]
    },
    {
      "cell_type": "markdown",
      "metadata": {
        "id": "1JHuBS3Wsd9e"
      },
      "source": [
        "Podemos ver que tenemos un número complejo donde se representa al nro imagniario con *j* en lugar de *i* que es como suele aparcer en la bibliografía."
      ]
    },
    {
      "cell_type": "code",
      "metadata": {
        "colab": {
          "base_uri": "https://localhost:8080/"
        },
        "id": "BW7CawBv2mht",
        "outputId": "b1dca8c8-13ee-404d-df14-b9a0a9bbb374"
      },
      "source": [
        "print('Podemos quedarnos con la parte real de nro_c:',nro_c.real)\n",
        "print('y podemos quedarnos con la parte imaginaria nro_c:',nro_c.imag)"
      ],
      "execution_count": 34,
      "outputs": [
        {
          "output_type": "stream",
          "text": [
            "Podemos quedarnos con la parte real de nro_c: [1. 0.]\n",
            "y podemos quedarnos con la parte imaginaria nro_c: [1. 2.]\n"
          ],
          "name": "stdout"
        }
      ]
    },
    {
      "cell_type": "markdown",
      "metadata": {
        "id": "viI3K6jD3A5h"
      },
      "source": [
        "Claramente si tenemos que escribir arreglos con muchos valores o arreglos particulares como la matriz identidad pero de grandes dimensiones esto no es cómodo. Para esto se pueden utilizar ciertas *funciones* que tiene Numpy."
      ]
    },
    {
      "cell_type": "code",
      "metadata": {
        "colab": {
          "base_uri": "https://localhost:8080/"
        },
        "id": "nkaY45bL3TIZ",
        "outputId": "d24c3d9b-53ff-4ba6-b96f-3e1da6d1ee7d"
      },
      "source": [
        "v1 = np.arange(-10,10)\n",
        "v1"
      ],
      "execution_count": 35,
      "outputs": [
        {
          "output_type": "execute_result",
          "data": {
            "text/plain": [
              "array([-10,  -9,  -8,  -7,  -6,  -5,  -4,  -3,  -2,  -1,   0,   1,   2,\n",
              "         3,   4,   5,   6,   7,   8,   9])"
            ]
          },
          "metadata": {},
          "execution_count": 35
        }
      ]
    },
    {
      "cell_type": "code",
      "metadata": {
        "colab": {
          "base_uri": "https://localhost:8080/"
        },
        "id": "qUwlwxMu3bPO",
        "outputId": "1d5bba84-1ad4-44fa-d5e4-3e45d84f697c"
      },
      "source": [
        "v2 = np.linspace(0,100,4)\n",
        "v2"
      ],
      "execution_count": 36,
      "outputs": [
        {
          "output_type": "execute_result",
          "data": {
            "text/plain": [
              "array([  0.        ,  33.33333333,  66.66666667, 100.        ])"
            ]
          },
          "metadata": {},
          "execution_count": 36
        }
      ]
    },
    {
      "cell_type": "code",
      "metadata": {
        "colab": {
          "base_uri": "https://localhost:8080/"
        },
        "id": "vFldJ48n3oZ3",
        "outputId": "6fe2aa30-f3db-4dfa-b1cb-7feaefadc973"
      },
      "source": [
        "v3 = np.zeros(10)\n",
        "v3"
      ],
      "execution_count": 37,
      "outputs": [
        {
          "output_type": "execute_result",
          "data": {
            "text/plain": [
              "array([0., 0., 0., 0., 0., 0., 0., 0., 0., 0.])"
            ]
          },
          "metadata": {},
          "execution_count": 37
        }
      ]
    },
    {
      "cell_type": "code",
      "metadata": {
        "colab": {
          "base_uri": "https://localhost:8080/"
        },
        "id": "lKCZFHSj3ukV",
        "outputId": "370fd2f3-1dfa-4afc-e5e2-637fc88a6629"
      },
      "source": [
        "M = np.ones((5,5))\n",
        "M"
      ],
      "execution_count": 38,
      "outputs": [
        {
          "output_type": "execute_result",
          "data": {
            "text/plain": [
              "array([[1., 1., 1., 1., 1.],\n",
              "       [1., 1., 1., 1., 1.],\n",
              "       [1., 1., 1., 1., 1.],\n",
              "       [1., 1., 1., 1., 1.],\n",
              "       [1., 1., 1., 1., 1.]])"
            ]
          },
          "metadata": {},
          "execution_count": 38
        }
      ]
    },
    {
      "cell_type": "code",
      "metadata": {
        "colab": {
          "base_uri": "https://localhost:8080/"
        },
        "id": "b0-_x0Tk3z2x",
        "outputId": "1557f5f0-6454-4726-930f-a8c23b5c60b0"
      },
      "source": [
        "I = np.eye(5)\n",
        "I"
      ],
      "execution_count": 39,
      "outputs": [
        {
          "output_type": "execute_result",
          "data": {
            "text/plain": [
              "array([[1., 0., 0., 0., 0.],\n",
              "       [0., 1., 0., 0., 0.],\n",
              "       [0., 0., 1., 0., 0.],\n",
              "       [0., 0., 0., 1., 0.],\n",
              "       [0., 0., 0., 0., 1.]])"
            ]
          },
          "metadata": {},
          "execution_count": 39
        }
      ]
    },
    {
      "cell_type": "code",
      "metadata": {
        "colab": {
          "base_uri": "https://localhost:8080/"
        },
        "id": "5OTguhx739rO",
        "outputId": "089d96a1-dc21-4ad0-da92-649d52157b80"
      },
      "source": [
        "diag_M = np.diag(I)\n",
        "diag_M"
      ],
      "execution_count": 40,
      "outputs": [
        {
          "output_type": "execute_result",
          "data": {
            "text/plain": [
              "array([1., 1., 1., 1., 1.])"
            ]
          },
          "metadata": {},
          "execution_count": 40
        }
      ]
    },
    {
      "cell_type": "code",
      "metadata": {
        "colab": {
          "base_uri": "https://localhost:8080/"
        },
        "id": "sYsVxEwX4FHV",
        "outputId": "19827724-5ad1-4624-d019-2d3919425ef4"
      },
      "source": [
        "np.trace(M)"
      ],
      "execution_count": 41,
      "outputs": [
        {
          "output_type": "execute_result",
          "data": {
            "text/plain": [
              "5.0"
            ]
          },
          "metadata": {},
          "execution_count": 41
        }
      ]
    },
    {
      "cell_type": "markdown",
      "metadata": {
        "id": "VD7rHBwXlphE"
      },
      "source": [
        "Por último, es posible crear la matriz cargando un archivo. Esto también lo podemos hacer con Numpy (dependiendo del formato). En general, se trabaja con archivos formato *.txt* o *.dat* ya que luego es posible abrirlos con cualquier otro programa. \n",
        "\n",
        "Una forma de hacerlo es mediante la función *loadtxt*:\n",
        "\n",
        "```\n",
        "d = np.loadtxt('nombre del archivo.txt')\n",
        "```\n",
        "\n",
        "donde, al ejecutar esta celda, se guarda la info del archivo en la variable *d*.\n"
      ]
    },
    {
      "cell_type": "code",
      "metadata": {
        "id": "nMG8fqyzn3WX",
        "colab": {
          "base_uri": "https://localhost:8080/"
        },
        "outputId": "bbd2c6c3-3c4e-48c4-ed9d-672d7107d8a6"
      },
      "source": [
        "d = np.loadtxt('/content/drive/MyDrive/Algebra_y_python/Matriz_A.txt') \n",
        "d"
      ],
      "execution_count": 42,
      "outputs": [
        {
          "output_type": "execute_result",
          "data": {
            "text/plain": [
              "array([[1., 0., 0.],\n",
              "       [0., 1., 0.],\n",
              "       [0., 0., 1.]])"
            ]
          },
          "metadata": {},
          "execution_count": 42
        }
      ]
    },
    {
      "cell_type": "markdown",
      "metadata": {
        "id": "bM2NdrJ-qvIn"
      },
      "source": [
        "## Matplotlib\n",
        "\n",
        "Usualmente, luego de realizar un par de operaciones uno quiere visualizar los resultados. Para esto Python tiene numerosas librerías potentes que permiten hacer todo tipo de figura. En lo que sigue utilizaremos una librería llamada Matplotlib. [Aquí](https://matplotlib.org/stable/tutorials/introductory/usage.html#sphx-glr-tutorials-introductory-usage-py) hay un tutorial de la misma librería para meterse un poco más en cómo hacer figuras. \n",
        "\n",
        "Veremos que es bastante simple. A modo de ejemplo visualizemos la última matriz que definimos:"
      ]
    },
    {
      "cell_type": "code",
      "metadata": {
        "id": "FR4DKGM8rcTX",
        "colab": {
          "base_uri": "https://localhost:8080/",
          "height": 287
        },
        "outputId": "d8ec0a7a-60f3-4024-840a-2595605ecf79"
      },
      "source": [
        "import matplotlib.pyplot as plt \n",
        "\n",
        "plt.imshow(d,aspect='auto') # cargo "
      ],
      "execution_count": 43,
      "outputs": [
        {
          "output_type": "execute_result",
          "data": {
            "text/plain": [
              "<matplotlib.image.AxesImage at 0x7f330cd65810>"
            ]
          },
          "metadata": {},
          "execution_count": 43
        },
        {
          "output_type": "display_data",
          "data": {
            "image/png": "[encoded data removed]",
            "text/plain": [
              "<Figure size 432x288 with 1 Axes>"
            ]
          },
          "metadata": {
            "needs_background": "light"
          }
        }
      ]
    },
    {
      "cell_type": "code",
      "metadata": {
        "id": "n_pWR1cehot6",
        "colab": {
          "base_uri": "https://localhost:8080/",
          "height": 313
        },
        "outputId": "8850f30c-1b67-4342-ad9a-ad0e94f6f50f"
      },
      "source": [
        "plt.imshow(d,aspect='auto')\n",
        "plt.xlabel('Nro de columna')\n",
        "plt.ylabel('Nro de fila')\n",
        "plt.title('Matriz identidad')"
      ],
      "execution_count": 44,
      "outputs": [
        {
          "output_type": "execute_result",
          "data": {
            "text/plain": [
              "Text(0.5, 1.0, 'Matriz identidad')"
            ]
          },
          "metadata": {},
          "execution_count": 44
        },
        {
          "output_type": "display_data",
          "data": {
            "image/png": "[encoded data removed]",
            "text/plain": [
              "<Figure size 432x288 with 1 Axes>"
            ]
          },
          "metadata": {
            "needs_background": "light"
          }
        }
      ]
    },
    {
      "cell_type": "markdown",
      "metadata": {
        "id": "eBgbxKaBjpBg"
      },
      "source": [
        "Obviamente también es posible graficar arreglos 1D. Esto, por ejemplo, nos permitiré graficar funciones."
      ]
    },
    {
      "cell_type": "code",
      "metadata": {
        "id": "pasu9GGXjpVU"
      },
      "source": [
        "x = np.arange(0,10)\n",
        "y = 2*np.arange(0,10)\n",
        "y2 = np.arange(0,10)**2"
      ],
      "execution_count": 45,
      "outputs": []
    },
    {
      "cell_type": "markdown",
      "metadata": {
        "id": "kXGl9nY7kCBX"
      },
      "source": [
        "Podemos ver que la imágen se guarda como una matriz o arreglo de números."
      ]
    },
    {
      "cell_type": "code",
      "metadata": {
        "id": "yBez4orokP9Y",
        "colab": {
          "base_uri": "https://localhost:8080/",
          "height": 313
        },
        "outputId": "7d2a3832-d9c1-4bde-f055-0bfbce694212"
      },
      "source": [
        "plt.plot(x,y,'r',x,y2,'b')\n",
        "plt.xlabel('x')\n",
        "plt.ylabel('y(x)')\n",
        "plt.title('Funciones básicas')"
      ],
      "execution_count": 46,
      "outputs": [
        {
          "output_type": "execute_result",
          "data": {
            "text/plain": [
              "Text(0.5, 1.0, 'Funciones básicas')"
            ]
          },
          "metadata": {},
          "execution_count": 46
        },
        {
          "output_type": "display_data",
          "data": {
            "image/png": "[encoded data removed]",
            "text/plain": [
              "<Figure size 432x288 with 1 Axes>"
            ]
          },
          "metadata": {
            "needs_background": "light"
          }
        }
      ]
    },
    {
      "cell_type": "markdown",
      "metadata": {
        "id": "jBerqakkkPoz"
      },
      "source": [
        "Esto es todo por ahora...\n",
        "\n",
        "En esta notebook hemos aprendido sobre:\n",
        "\n",
        "* operaciones básicas con Python\n",
        "* librerías de interés para el algebra lineal y podes hacer gráficos simples\n",
        "* Como tratar matrices y vectores con *Numpy*\n",
        "\n"
      ]
    }
  ]
}