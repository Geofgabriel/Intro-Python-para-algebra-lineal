{
  "nbformat": 4,
  "nbformat_minor": 0,
  "metadata": {
    "colab": {
      "name": "Primeros_pasos_con_Python.ipynb",
      "provenance": [],
      "collapsed_sections": [],
      "mount_file_id": "14zadTiFj2allXw61yENJ6aJgFZdqPXHq",
      "authorship_tag": "ABX9TyMmWgN2zb47s/0TnLs/4T2a",
      "include_colab_link": true
    },
    "kernelspec": {
      "name": "python3",
      "display_name": "Python 3"
    },
    "language_info": {
      "name": "python"
    }
  },
  "cells": [
    {
      "cell_type": "markdown",
      "metadata": {
        "id": "view-in-github",
        "colab_type": "text"
      },
      "source": [
        "<a href=\"https://colab.research.google.com/github/Geofgabriel/Intro-Python-para-algebra-lineal/blob/main/Notebooks/Primeros_pasos_con_Python.ipynb\" target=\"_parent\"><img src=\"https://colab.research.google.com/assets/colab-badge.svg\" alt=\"Open In Colab\"/></a>"
      ]
    },
    {
      "cell_type": "markdown",
      "metadata": {
        "id": "sqTNkadS6E9_"
      },
      "source": [
        "# PRIMEROS PASOS EN PYTHON\n",
        "\n",
        "Para empezar veamos las operaciones básicas en Python"
      ]
    },
    {
      "cell_type": "code",
      "metadata": {
        "colab": {
          "base_uri": "https://localhost:8080/"
        },
        "id": "kEEHIbHs6OUd",
        "outputId": "581f2887-11c8-4fdd-9e37-89519dcb0052"
      },
      "source": [
        "1+1"
      ],
      "execution_count": null,
      "outputs": [
        {
          "output_type": "execute_result",
          "data": {
            "text/plain": [
              "2"
            ]
          },
          "metadata": {
            "tags": []
          },
          "execution_count": 1
        }
      ]
    },
    {
      "cell_type": "code",
      "metadata": {
        "colab": {
          "base_uri": "https://localhost:8080/"
        },
        "id": "uIUBWi6x6RWE",
        "outputId": "23353274-3729-4e88-c0b2-9a0256842ed5"
      },
      "source": [
        "5*8"
      ],
      "execution_count": null,
      "outputs": [
        {
          "output_type": "execute_result",
          "data": {
            "text/plain": [
              "40"
            ]
          },
          "metadata": {
            "tags": []
          },
          "execution_count": 2
        }
      ]
    },
    {
      "cell_type": "code",
      "metadata": {
        "colab": {
          "base_uri": "https://localhost:8080/"
        },
        "id": "ysE7EgUX6WtN",
        "outputId": "36b9b721-b173-4a02-9bfe-f949a9a5560d"
      },
      "source": [
        "4/2"
      ],
      "execution_count": null,
      "outputs": [
        {
          "output_type": "execute_result",
          "data": {
            "text/plain": [
              "2.0"
            ]
          },
          "metadata": {
            "tags": []
          },
          "execution_count": 3
        }
      ]
    },
    {
      "cell_type": "code",
      "metadata": {
        "colab": {
          "base_uri": "https://localhost:8080/"
        },
        "id": "RfXuAJpg6hTX",
        "outputId": "0dc76031-dc01-4f48-be51-8719ccafc50e"
      },
      "source": [
        "5*2+10-(10/5)"
      ],
      "execution_count": null,
      "outputs": [
        {
          "output_type": "execute_result",
          "data": {
            "text/plain": [
              "18.0"
            ]
          },
          "metadata": {
            "tags": []
          },
          "execution_count": 4
        }
      ]
    },
    {
      "cell_type": "code",
      "metadata": {
        "colab": {
          "base_uri": "https://localhost:8080/"
        },
        "id": "afZn_CEM-pQU",
        "outputId": "b0d4605a-02b9-4a5b-bd9c-3091c3565e14"
      },
      "source": [
        "4**2"
      ],
      "execution_count": null,
      "outputs": [
        {
          "output_type": "execute_result",
          "data": {
            "text/plain": [
              "16"
            ]
          },
          "metadata": {
            "tags": []
          },
          "execution_count": 8
        }
      ]
    },
    {
      "cell_type": "markdown",
      "metadata": {
        "id": "4sV-0Pfs9wps"
      },
      "source": [
        "Ahora...Que pasa con una raíz cuadrada?\n",
        "\n",
        "$$\\sqrt{2} = 2^{(\\frac{1}{2})}$$"
      ]
    },
    {
      "cell_type": "code",
      "metadata": {
        "colab": {
          "base_uri": "https://localhost:8080/"
        },
        "id": "RaOtii1E-vt7",
        "outputId": "4f1efc3d-9c5f-4154-c9a2-502aaf7c8943"
      },
      "source": [
        "4**(1/2)"
      ],
      "execution_count": null,
      "outputs": [
        {
          "output_type": "execute_result",
          "data": {
            "text/plain": [
              "2.0"
            ]
          },
          "metadata": {
            "tags": []
          },
          "execution_count": 10
        }
      ]
    },
    {
      "cell_type": "markdown",
      "metadata": {
        "id": "k0vsc-nL_gzx"
      },
      "source": [
        "Otra opción es utilizar alguna librería...esta cuenta es muy sencilla y no trae problemas en cuanto a su lectura en el programa y no interesa su performance del cálculo. No obstante, en otras situaciones es conveniente utilizar otras opciones."
      ]
    },
    {
      "cell_type": "code",
      "metadata": {
        "colab": {
          "base_uri": "https://localhost:8080/",
          "height": 166
        },
        "id": "lV1ZREI39ZiW",
        "outputId": "0fc293b2-01d2-4ccb-bacc-5a8d4190e197"
      },
      "source": [
        "sqrt(4)"
      ],
      "execution_count": null,
      "outputs": [
        {
          "output_type": "error",
          "ename": "NameError",
          "evalue": "ignored",
          "traceback": [
            "\u001b[0;31m---------------------------------------------------------------------------\u001b[0m",
            "\u001b[0;31mNameError\u001b[0m                                 Traceback (most recent call last)",
            "\u001b[0;32m<ipython-input-5-317e033d29d5>\u001b[0m in \u001b[0;36m<module>\u001b[0;34m()\u001b[0m\n\u001b[0;32m----> 1\u001b[0;31m \u001b[0msqrt\u001b[0m\u001b[0;34m(\u001b[0m\u001b[0;36m4\u001b[0m\u001b[0;34m)\u001b[0m\u001b[0;34m\u001b[0m\u001b[0;34m\u001b[0m\u001b[0m\n\u001b[0m",
            "\u001b[0;31mNameError\u001b[0m: name 'sqrt' is not defined"
          ]
        }
      ]
    },
    {
      "cell_type": "code",
      "metadata": {
        "colab": {
          "base_uri": "https://localhost:8080/"
        },
        "id": "OaukfCMf9ccq",
        "outputId": "90d99e6c-d905-424e-e5e2-1731e1de5e4b"
      },
      "source": [
        "import math\n",
        "\n",
        "math.sqrt(4)"
      ],
      "execution_count": null,
      "outputs": [
        {
          "output_type": "execute_result",
          "data": {
            "text/plain": [
              "2.0"
            ]
          },
          "metadata": {
            "tags": []
          },
          "execution_count": 12
        }
      ]
    },
    {
      "cell_type": "markdown",
      "metadata": {
        "id": "81nJPLwV6dPS"
      },
      "source": [
        "Podemos ver que fácilmente se realiza cualquier tipo de operación básica. Uno de los fuertes de este lenguaje es la cantidad de librerías para hacer lo que se necesite (hay de todo!).\n",
        "\n",
        "Particularmente existen librerías con respectivos módulos para al cálculo numérico, con un fuerte foco en el álgebra lineal. \n",
        "Éste es nuestro interés, y para empezar a meternos de poquito utilizaremos\n",
        "[Scipy](https://www.scipy.org/) y [Numpy](https://numpy.org/doc/stable/index.html) (que en realidad es un paquete del ecosistema de Scipy).\n",
        "\n",
        "Para poder utilizar estos paquetes se los convoca  mediante:\n",
        "\n",
        "\n",
        "\n",
        "```\n",
        "import numpy as np\n",
        "import scipy as sp\n",
        "```\n",
        "\n",
        "Esto se hace solo una vez al principio del programa. Lo que estamos haciendo con el \"as np\" es importar el módulo NumPy como una variable de nombre np. A esta variable la usaremos para llamar todas las funciones y objetos que tiene NumPy. Esto sirve también para sp y cualquier otro módulo que necesitemos. \n",
        "\n",
        "*Observación: Esto en realidad se puede realizar en cualquier parte del código pero antes de utilizar alguna de sus dependencias.*"
      ]
    },
    {
      "cell_type": "code",
      "metadata": {
        "id": "6tjQtl-bSzSe"
      },
      "source": [
        "import numpy as np # el símbolo # se utiliza para hacer comentarios en el código. Esta parte la pasa por el alto Python.\n",
        "\n",
        "# 2+3"
      ],
      "execution_count": null,
      "outputs": []
    },
    {
      "cell_type": "markdown",
      "metadata": {
        "id": "lNOz3iqn6agx"
      },
      "source": [
        "## Numpy\n",
        "NumPy es el paquete fundamental para el cómputo científico. Es una librería de Python que provee como elemento mas importante al objeto \n",
        "multidimensional array\n",
        "Esto nos va a permitir representar vectores y matrices. Luego con ellos podemos realizar todo tipo de operaciones (aunque hay que tener cuidado con otros tipos de datos).\n",
        "\n",
        "### Vector y matrices"
      ]
    },
    {
      "cell_type": "code",
      "metadata": {
        "colab": {
          "base_uri": "https://localhost:8080/"
        },
        "id": "BKMVkzZ3SnIi",
        "outputId": "c2e0dc17-a7fe-4f10-fbe6-14066a37269c"
      },
      "source": [
        "u = np.array([1,0,0])\n",
        "u"
      ],
      "execution_count": null,
      "outputs": [
        {
          "output_type": "execute_result",
          "data": {
            "text/plain": [
              "array([1, 0, 0])"
            ]
          },
          "metadata": {
            "tags": []
          },
          "execution_count": 19
        }
      ]
    },
    {
      "cell_type": "markdown",
      "metadata": {
        "id": "mCAcV9abfPNU"
      },
      "source": [
        "otra forma, mas elegante, para poder ver lo que guardamos en *u* es utilizar print()"
      ]
    },
    {
      "cell_type": "code",
      "metadata": {
        "colab": {
          "base_uri": "https://localhost:8080/"
        },
        "id": "ssRM136ofcXU",
        "outputId": "f48ea2a9-1c41-4dee-cf49-e554ea340d91"
      },
      "source": [
        "print('El vector es u =',u)"
      ],
      "execution_count": null,
      "outputs": [
        {
          "output_type": "stream",
          "text": [
            "El vector es u = [1 0 0]\n"
          ],
          "name": "stdout"
        }
      ]
    },
    {
      "cell_type": "markdown",
      "metadata": {
        "id": "i2q4NKxnfVPP"
      },
      "source": [
        "Para representar una matriz lo hacemos de la siguiente forma:"
      ]
    },
    {
      "cell_type": "code",
      "metadata": {
        "colab": {
          "base_uri": "https://localhost:8080/"
        },
        "id": "5Lt6bKyykHv7",
        "outputId": "69251474-4234-4588-b700-9367958aef3e"
      },
      "source": [
        "w = np.array(([1,0,0],[0,1,0],[0,0,1]))\n",
        "print('w =',w)"
      ],
      "execution_count": null,
      "outputs": [
        {
          "output_type": "stream",
          "text": [
            "w = [[1 0 0]\n",
            " [0 1 0]\n",
            " [0 0 1]]\n"
          ],
          "name": "stdout"
        }
      ]
    },
    {
      "cell_type": "markdown",
      "metadata": {
        "id": "BD-T3OtOlrQN"
      },
      "source": [
        "Ahora, podemos ver que info tienen estas variables que definimos llamando a los atributos que tienen por ser parte de Numpy."
      ]
    },
    {
      "cell_type": "code",
      "metadata": {
        "colab": {
          "base_uri": "https://localhost:8080/"
        },
        "id": "QRLD6HSvl8cA",
        "outputId": "4990aa0d-9205-4f94-897d-2e008da92024"
      },
      "source": [
        "u.ndim #vamos la dimensión"
      ],
      "execution_count": null,
      "outputs": [
        {
          "output_type": "execute_result",
          "data": {
            "text/plain": [
              "1"
            ]
          },
          "metadata": {
            "tags": []
          },
          "execution_count": 22
        }
      ]
    },
    {
      "cell_type": "code",
      "metadata": {
        "colab": {
          "base_uri": "https://localhost:8080/"
        },
        "id": "EDgqfNcbmEPA",
        "outputId": "f22c09e0-44a8-4c0f-c873-c39a392b250b"
      },
      "source": [
        "u.shape # la dimensión pero vista como una tupla"
      ],
      "execution_count": null,
      "outputs": [
        {
          "output_type": "execute_result",
          "data": {
            "text/plain": [
              "(3,)"
            ]
          },
          "metadata": {
            "tags": []
          },
          "execution_count": 23
        }
      ]
    },
    {
      "cell_type": "code",
      "metadata": {
        "colab": {
          "base_uri": "https://localhost:8080/"
        },
        "id": "fuiezUVbmN_g",
        "outputId": "f81d2bbd-db5a-4eed-89ea-6e0797f7f9ab"
      },
      "source": [
        "u.size # el tamaño del arreglo"
      ],
      "execution_count": null,
      "outputs": [
        {
          "output_type": "execute_result",
          "data": {
            "text/plain": [
              "3"
            ]
          },
          "metadata": {
            "tags": []
          },
          "execution_count": 24
        }
      ]
    },
    {
      "cell_type": "markdown",
      "metadata": {
        "id": "Me8STyQzmTaO"
      },
      "source": [
        "Lo mismo vale para matrices"
      ]
    },
    {
      "cell_type": "code",
      "metadata": {
        "colab": {
          "base_uri": "https://localhost:8080/"
        },
        "id": "IjZNAnXRmV2y",
        "outputId": "67dee2cb-e014-48e5-f264-279fc01ec2cc"
      },
      "source": [
        "print('dimensión de w:',w.ndim)\n",
        "print('la dimensión como tupla:',w.shape)\n",
        "print('el tamaño del arreglo w:',w.size)"
      ],
      "execution_count": null,
      "outputs": [
        {
          "output_type": "stream",
          "text": [
            "dimensión de w: 2\n",
            "la dimensión como tupla: (3, 3)\n",
            "el tamaño del arreglo w: 9\n"
          ],
          "name": "stdout"
        }
      ]
    },
    {
      "cell_type": "markdown",
      "metadata": {
        "id": "4XMytVtZpD-2"
      },
      "source": [
        "Ahora bien, los arreglos se pueden crear de tres formas distintas:\n",
        "\n",
        "\n",
        "1.   Como lista o tupla que vimos recién \n",
        "2.   A partir de funciones de Numpy\n",
        "3.   Cargando un archivo\n",
        "\n",
        "\n",
        "\n"
      ]
    },
    {
      "cell_type": "markdown",
      "metadata": {
        "id": "87C6a00mlQ95"
      },
      "source": [
        "\n",
        "Entonces, el primer ítem ya lo vimos anteriormente. Podemos ver un ejemplo mas, pero ahora con números complejos. Obsevar que es recomendable, cuando se declara la variable *nro_c* especificar que tipo de dato se guardará en ella mediante *dytpe*."
      ]
    },
    {
      "cell_type": "code",
      "metadata": {
        "colab": {
          "base_uri": "https://localhost:8080/"
        },
        "id": "7Wa9MDwdrzdD",
        "outputId": "ee5ed5ff-6552-434c-c2b1-20f6e8c9f661"
      },
      "source": [
        "nro_c = np.array([1+1j,2j],dtype=complex)\n",
        "print('El nro complejo es:',nro_c)"
      ],
      "execution_count": null,
      "outputs": [
        {
          "output_type": "stream",
          "text": [
            "El nro complejo es: [1.+1.j 0.+2.j]\n"
          ],
          "name": "stdout"
        }
      ]
    },
    {
      "cell_type": "markdown",
      "metadata": {
        "id": "1JHuBS3Wsd9e"
      },
      "source": [
        "Podemos ver que tenemos un número complejo donde se representa al nro imagniario con *j* en lugar de *i* que es como suele aparcer en la bibliografía."
      ]
    },
    {
      "cell_type": "code",
      "metadata": {
        "colab": {
          "base_uri": "https://localhost:8080/"
        },
        "id": "BW7CawBv2mht",
        "outputId": "287c7318-ba6f-4eb2-8147-9ff14f200d0b"
      },
      "source": [
        "print('Podemos quedarnos con la parte real de nro_c:',nro_c.real)\n",
        "print('y podemos quedarnos con la parte imaginaria nro_c:',nro_c.imag)"
      ],
      "execution_count": null,
      "outputs": [
        {
          "output_type": "stream",
          "text": [
            "Podemos quedarnos con la parte real de nro_c: [1. 0.]\n",
            "y podemos quedarnos con la parte imaginaria nro_c: [1. 2.]\n"
          ],
          "name": "stdout"
        }
      ]
    },
    {
      "cell_type": "markdown",
      "metadata": {
        "id": "viI3K6jD3A5h"
      },
      "source": [
        "Claramente si tenemos que escribir arreglos con muchos valores o arreglos particulares como la matriz identidad pero de grandes dimensiones esto no es cómodo. Para esto se pueden utilizar ciertas *funciones* que tiene Numpy."
      ]
    },
    {
      "cell_type": "code",
      "metadata": {
        "colab": {
          "base_uri": "https://localhost:8080/"
        },
        "id": "nkaY45bL3TIZ",
        "outputId": "538a240a-d0f3-4983-d4a8-a4b00b4c6434"
      },
      "source": [
        "v1 = np.arange(0,10,3)\n",
        "v1"
      ],
      "execution_count": null,
      "outputs": [
        {
          "output_type": "execute_result",
          "data": {
            "text/plain": [
              "array([0, 3, 6, 9])"
            ]
          },
          "metadata": {
            "tags": []
          },
          "execution_count": 34
        }
      ]
    },
    {
      "cell_type": "code",
      "metadata": {
        "colab": {
          "base_uri": "https://localhost:8080/"
        },
        "id": "qUwlwxMu3bPO",
        "outputId": "511a71f2-4d6b-4ae4-efff-bdeeb250a986"
      },
      "source": [
        "v2 = np.linspace(0,100,4)\n",
        "v2"
      ],
      "execution_count": null,
      "outputs": [
        {
          "output_type": "execute_result",
          "data": {
            "text/plain": [
              "array([  0.        ,  33.33333333,  66.66666667, 100.        ])"
            ]
          },
          "metadata": {
            "tags": []
          },
          "execution_count": 36
        }
      ]
    },
    {
      "cell_type": "code",
      "metadata": {
        "colab": {
          "base_uri": "https://localhost:8080/"
        },
        "id": "vFldJ48n3oZ3",
        "outputId": "462b926b-e442-469c-cbea-38b568be3199"
      },
      "source": [
        "v3 = np.zeros(10)\n",
        "v3"
      ],
      "execution_count": null,
      "outputs": [
        {
          "output_type": "execute_result",
          "data": {
            "text/plain": [
              "array([0., 0., 0., 0., 0., 0., 0., 0., 0., 0.])"
            ]
          },
          "metadata": {
            "tags": []
          },
          "execution_count": 37
        }
      ]
    },
    {
      "cell_type": "code",
      "metadata": {
        "colab": {
          "base_uri": "https://localhost:8080/"
        },
        "id": "lKCZFHSj3ukV",
        "outputId": "e6cd2c1c-8903-4152-9655-740b7dca3c5a"
      },
      "source": [
        "M = np.ones((5,5))\n",
        "M"
      ],
      "execution_count": null,
      "outputs": [
        {
          "output_type": "execute_result",
          "data": {
            "text/plain": [
              "array([[1., 1., 1., 1., 1.],\n",
              "       [1., 1., 1., 1., 1.],\n",
              "       [1., 1., 1., 1., 1.],\n",
              "       [1., 1., 1., 1., 1.],\n",
              "       [1., 1., 1., 1., 1.]])"
            ]
          },
          "metadata": {
            "tags": []
          },
          "execution_count": 38
        }
      ]
    },
    {
      "cell_type": "code",
      "metadata": {
        "colab": {
          "base_uri": "https://localhost:8080/"
        },
        "id": "b0-_x0Tk3z2x",
        "outputId": "05ae995f-f25f-4c8a-ff57-b8c344d76fe1"
      },
      "source": [
        "I = np.eye((5))\n",
        "I"
      ],
      "execution_count": null,
      "outputs": [
        {
          "output_type": "execute_result",
          "data": {
            "text/plain": [
              "array([[1., 0., 0., 0., 0.],\n",
              "       [0., 1., 0., 0., 0.],\n",
              "       [0., 0., 1., 0., 0.],\n",
              "       [0., 0., 0., 1., 0.],\n",
              "       [0., 0., 0., 0., 1.]])"
            ]
          },
          "metadata": {
            "tags": []
          },
          "execution_count": 40
        }
      ]
    },
    {
      "cell_type": "code",
      "metadata": {
        "colab": {
          "base_uri": "https://localhost:8080/"
        },
        "id": "5OTguhx739rO",
        "outputId": "99bfa62a-a0c5-47ac-d0e4-40b9a9ebe4c2"
      },
      "source": [
        "diag_M = np.diag(I)\n",
        "diag_M"
      ],
      "execution_count": null,
      "outputs": [
        {
          "output_type": "execute_result",
          "data": {
            "text/plain": [
              "array([1., 1., 1., 1., 1.])"
            ]
          },
          "metadata": {
            "tags": []
          },
          "execution_count": 43
        }
      ]
    },
    {
      "cell_type": "code",
      "metadata": {
        "colab": {
          "base_uri": "https://localhost:8080/"
        },
        "id": "sYsVxEwX4FHV",
        "outputId": "601f0a71-aac3-4c76-9e26-bb86967f359e"
      },
      "source": [
        "np.trace(M)"
      ],
      "execution_count": null,
      "outputs": [
        {
          "output_type": "execute_result",
          "data": {
            "text/plain": [
              "5.0"
            ]
          },
          "metadata": {
            "tags": []
          },
          "execution_count": 44
        }
      ]
    },
    {
      "cell_type": "markdown",
      "metadata": {
        "id": "VD7rHBwXlphE"
      },
      "source": [
        "Por último, es posible crear la matriz cargando un archivo. Esto también lo podemos hacer con Numpy (dependiendo del formato). En general, se trabaja con archivos formato *.txt* o *.dat* ya que luego es posible abrirlos con cualquier otro programa. \n",
        "\n",
        "Una forma de hacerlo es mediante la función *loadtxt*:\n",
        "\n",
        "```\n",
        "d = np.loadtxt('nombre del archivo.txt')\n",
        "```\n",
        "\n",
        "donde, al ejecutar esta celda, se guarda la info del archivo en la variable *d*.\n"
      ]
    },
    {
      "cell_type": "code",
      "metadata": {
        "colab": {
          "base_uri": "https://localhost:8080/"
        },
        "id": "nMG8fqyzn3WX",
        "outputId": "9fe44c3f-5578-40bb-cc55-3e7337bf6457"
      },
      "source": [
        "d = np.loadtxt('/content/drive/MyDrive/Algebra_y_python/Matriz_A.txt') \n",
        "d"
      ],
      "execution_count": null,
      "outputs": [
        {
          "output_type": "execute_result",
          "data": {
            "text/plain": [
              "array([[1., 0., 0.],\n",
              "       [0., 1., 0.],\n",
              "       [0., 0., 1.]])"
            ]
          },
          "metadata": {
            "tags": []
          },
          "execution_count": 4
        }
      ]
    },
    {
      "cell_type": "markdown",
      "metadata": {
        "id": "bM2NdrJ-qvIn"
      },
      "source": [
        "## Matplotlib\n",
        "\n",
        "Usualmente, luego de realizar un par de operaciones uno quiere visualizar los resultados. Para esto Python tiene numerosas librerías potentes que permiten hacer todo tipo de figura. En lo que sigue utilizaremos una librería llamada Matplotlib."
      ]
    },
    {
      "cell_type": "code",
      "metadata": {
        "colab": {
          "base_uri": "https://localhost:8080/",
          "height": 287
        },
        "id": "FR4DKGM8rcTX",
        "outputId": "4b3f6ce5-b146-495f-dad8-9cbb671e593d"
      },
      "source": [
        "import matplotlib.pyplot as plt\n",
        "\n",
        "plt.imshow(d,aspect='auto')"
      ],
      "execution_count": null,
      "outputs": [
        {
          "output_type": "execute_result",
          "data": {
            "text/plain": [
              "<matplotlib.image.AxesImage at 0x7f822bdf4250>"
            ]
          },
          "metadata": {
            "tags": []
          },
          "execution_count": 5
        },
        {
          "output_type": "display_data",
          "data": {
            "image/png": "[encoded data removed]",
            "text/plain": [
              "<Figure size 432x288 with 1 Axes>"
            ]
          },
          "metadata": {
            "tags": [],
            "needs_background": "light"
          }
        }
      ]
    }
  ]
}