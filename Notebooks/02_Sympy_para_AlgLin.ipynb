{
  "nbformat": 4,
  "nbformat_minor": 0,
  "metadata": {
    "colab": {
      "name": "02_Sympy_para_AlgLin.ipynb",
      "provenance": [],
      "collapsed_sections": [],
      "authorship_tag": "ABX9TyOgDRvEwUytlS4eOT7qjPVG",
      "include_colab_link": true
    },
    "kernelspec": {
      "name": "python3",
      "display_name": "Python 3"
    },
    "language_info": {
      "name": "python"
    }
  },
  "cells": [
    {
      "cell_type": "markdown",
      "metadata": {
        "id": "view-in-github",
        "colab_type": "text"
      },
      "source": [
        "<a href=\"https://colab.research.google.com/github/Geofgabriel/Intro-Python-para-algebra-lineal/blob/main/Notebooks/02_Sympy_para_AlgLin.ipynb\" target=\"_parent\"><img src=\"https://colab.research.google.com/assets/colab-badge.svg\" alt=\"Open In Colab\"/></a>"
      ]
    },
    {
      "cell_type": "markdown",
      "metadata": {
        "id": "IBy38FB7ELom"
      },
      "source": [
        "# Repaso de álgebra con Sympy\n",
        "\n",
        "En esta notebook veremos un pequeño repaso de cuestiones básicas de álgebra y Sympy, algunas de las operaciones pertinentes a nuestra materia y funciones de dicho paquete.\n",
        "\n",
        "Primero, debemos importar esta librería:"
      ]
    },
    {
      "cell_type": "code",
      "metadata": {
        "id": "SbB4PikdSn64"
      },
      "source": [
        "import sympy as sy"
      ],
      "execution_count": 1,
      "outputs": []
    },
    {
      "cell_type": "markdown",
      "metadata": {
        "id": "_Ei9MOPzGPxt"
      },
      "source": [
        "Definimos las siguientes matrices y vectores..."
      ]
    },
    {
      "cell_type": "code",
      "metadata": {
        "colab": {
          "base_uri": "https://localhost:8080/",
          "height": 95
        },
        "id": "3uW2NG5JPsEf",
        "outputId": "12f85db3-5e7d-4261-dd44-45810c9ac7aa"
      },
      "source": [
        "M1 = sy.Matrix([[1,2,3],[4,5,6],[7,8,9]])\n",
        "print('tenemos la matriz M1:')\n",
        "M1"
      ],
      "execution_count": 2,
      "outputs": [
        {
          "output_type": "stream",
          "name": "stdout",
          "text": [
            "tenemos la matriz M1:\n"
          ]
        },
        {
          "output_type": "execute_result",
          "data": {
            "text/latex": "$\\displaystyle \\left[\\begin{matrix}1 & 2 & 3\\\\4 & 5 & 6\\\\7 & 8 & 9\\end{matrix}\\right]$",
            "text/plain": [
              "Matrix([\n",
              "[1, 2, 3],\n",
              "[4, 5, 6],\n",
              "[7, 8, 9]])"
            ]
          },
          "metadata": {},
          "execution_count": 2
        }
      ]
    },
    {
      "cell_type": "markdown",
      "metadata": {
        "id": "wKXnn3SepTYA"
      },
      "source": [
        "Observemos que también es posible escribir una matriz a partir de un conjunto de vectores dados $w =\\{(9,8,7),(6,5,4),(3,2,1)\\}$. "
      ]
    },
    {
      "cell_type": "code",
      "metadata": {
        "colab": {
          "base_uri": "https://localhost:8080/",
          "height": 95
        },
        "id": "ii9N9dC_FZFS",
        "outputId": "62bec32b-95e1-44ae-82de-62d45df96a5a"
      },
      "source": [
        "import numpy as np\n",
        "v1 = sy.Matrix([9,8,7])\n",
        "v2 = sy.Matrix([6,5,4])\n",
        "v3 = sy.Matrix([3,2,1])\n",
        "M2 = sy.Matrix([[v1,v2,v3]])\n",
        "\n",
        "print('y la matriz M2:')\n",
        "M2"
      ],
      "execution_count": 3,
      "outputs": [
        {
          "output_type": "stream",
          "name": "stdout",
          "text": [
            "y la matriz M2:\n"
          ]
        },
        {
          "output_type": "execute_result",
          "data": {
            "text/latex": "$\\displaystyle \\left[\\begin{matrix}9 & 6 & 3\\\\8 & 5 & 2\\\\7 & 4 & 1\\end{matrix}\\right]$",
            "text/plain": [
              "Matrix([\n",
              "[9, 6, 3],\n",
              "[8, 5, 2],\n",
              "[7, 4, 1]])"
            ]
          },
          "metadata": {},
          "execution_count": 3
        }
      ]
    },
    {
      "cell_type": "markdown",
      "metadata": {
        "id": "wFhYZyw9Fonr"
      },
      "source": [
        "También existen otras formas de crear nuestra matriz."
      ]
    },
    {
      "cell_type": "code",
      "metadata": {
        "colab": {
          "base_uri": "https://localhost:8080/",
          "height": 200
        },
        "id": "Zgr1Y0nAEhzg",
        "outputId": "36c54c28-2e36-415a-a90b-f3c2f6326aec"
      },
      "source": [
        "M3 = sy.Matrix.vstack(v1,v2,v3)\n",
        "M3"
      ],
      "execution_count": 4,
      "outputs": [
        {
          "output_type": "execute_result",
          "data": {
            "text/latex": "$\\displaystyle \\left[\\begin{matrix}9\\\\8\\\\7\\\\6\\\\5\\\\4\\\\3\\\\2\\\\1\\end{matrix}\\right]$",
            "text/plain": [
              "Matrix([\n",
              "[9],\n",
              "[8],\n",
              "[7],\n",
              "[6],\n",
              "[5],\n",
              "[4],\n",
              "[3],\n",
              "[2],\n",
              "[1]])"
            ]
          },
          "metadata": {},
          "execution_count": 4
        }
      ]
    },
    {
      "cell_type": "code",
      "metadata": {
        "colab": {
          "base_uri": "https://localhost:8080/",
          "height": 79
        },
        "id": "ngUKk_Q3Es7y",
        "outputId": "91dc7da9-fca2-48b8-9587-7c2b98951f3c"
      },
      "source": [
        "M3 = sy.Matrix.hstack(v1,v2,v3)\n",
        "M3"
      ],
      "execution_count": 5,
      "outputs": [
        {
          "output_type": "execute_result",
          "data": {
            "text/latex": "$\\displaystyle \\left[\\begin{matrix}9 & 6 & 3\\\\8 & 5 & 2\\\\7 & 4 & 1\\end{matrix}\\right]$",
            "text/plain": [
              "Matrix([\n",
              "[9, 6, 3],\n",
              "[8, 5, 2],\n",
              "[7, 4, 1]])"
            ]
          },
          "metadata": {},
          "execution_count": 5
        }
      ]
    },
    {
      "cell_type": "markdown",
      "metadata": {
        "id": "yHw_n2oHGU_Z"
      },
      "source": [
        "Ahora, los vectores puede ser columna, pero también fila..."
      ]
    },
    {
      "cell_type": "code",
      "metadata": {
        "colab": {
          "base_uri": "https://localhost:8080/",
          "height": 79
        },
        "id": "SPS-PswSGXwB",
        "outputId": "fce1ef93-96db-415d-df7f-17a5314bab05"
      },
      "source": [
        "v = sy.Matrix([1,2,3])\n",
        "v"
      ],
      "execution_count": 6,
      "outputs": [
        {
          "output_type": "execute_result",
          "data": {
            "text/latex": "$\\displaystyle \\left[\\begin{matrix}1\\\\2\\\\3\\end{matrix}\\right]$",
            "text/plain": [
              "Matrix([\n",
              "[1],\n",
              "[2],\n",
              "[3]])"
            ]
          },
          "metadata": {},
          "execution_count": 6
        }
      ]
    },
    {
      "cell_type": "code",
      "metadata": {
        "colab": {
          "base_uri": "https://localhost:8080/",
          "height": 39
        },
        "id": "PnLQOwlLGiOO",
        "outputId": "7c169ccb-bc7d-4e95-c93e-97a1db4848a5"
      },
      "source": [
        "w = sy.Matrix([[1,2,3]])\n",
        "w"
      ],
      "execution_count": 7,
      "outputs": [
        {
          "output_type": "execute_result",
          "data": {
            "text/latex": "$\\displaystyle \\left[\\begin{matrix}1 & 2 & 3\\end{matrix}\\right]$",
            "text/plain": [
              "Matrix([[1, 2, 3]])"
            ]
          },
          "metadata": {},
          "execution_count": 7
        }
      ]
    },
    {
      "cell_type": "markdown",
      "metadata": {
        "id": "BmPJHDW-LNa9"
      },
      "source": [
        "#### Operaciones\n",
        "\n",
        "Podemos ver que para matrices mas grandes se vuelve algo molesto cargarlas a mano. Para esto, Sympy tiene pre establecidas algunas de las matrices típicas y pueden generarse directamente."
      ]
    },
    {
      "cell_type": "code",
      "metadata": {
        "colab": {
          "base_uri": "https://localhost:8080/",
          "height": 137
        },
        "id": "1PlzdxWkLZrI",
        "outputId": "00efd0bd-7dd2-4de8-bdf9-8a16eb22c82b"
      },
      "source": [
        "I = sy.eye(5)\n",
        "print('Matriz identidad:')\n",
        "I"
      ],
      "execution_count": 8,
      "outputs": [
        {
          "output_type": "stream",
          "name": "stdout",
          "text": [
            "Matriz identidad:\n"
          ]
        },
        {
          "output_type": "execute_result",
          "data": {
            "text/latex": "$\\displaystyle \\left[\\begin{matrix}1 & 0 & 0 & 0 & 0\\\\0 & 1 & 0 & 0 & 0\\\\0 & 0 & 1 & 0 & 0\\\\0 & 0 & 0 & 1 & 0\\\\0 & 0 & 0 & 0 & 1\\end{matrix}\\right]$",
            "text/plain": [
              "Matrix([\n",
              "[1, 0, 0, 0, 0],\n",
              "[0, 1, 0, 0, 0],\n",
              "[0, 0, 1, 0, 0],\n",
              "[0, 0, 0, 1, 0],\n",
              "[0, 0, 0, 0, 1]])"
            ]
          },
          "metadata": {},
          "execution_count": 8
        }
      ]
    },
    {
      "cell_type": "code",
      "metadata": {
        "colab": {
          "base_uri": "https://localhost:8080/",
          "height": 221
        },
        "id": "eA5qMEd2P5BP",
        "outputId": "acb5d848-a08c-48ca-d0d1-3fd4c88ad931"
      },
      "source": [
        "ceros = sy.zeros(10)\n",
        "ceros"
      ],
      "execution_count": 9,
      "outputs": [
        {
          "output_type": "execute_result",
          "data": {
            "text/latex": "$\\displaystyle \\left[\\begin{matrix}0 & 0 & 0 & 0 & 0 & 0 & 0 & 0 & 0 & 0\\\\0 & 0 & 0 & 0 & 0 & 0 & 0 & 0 & 0 & 0\\\\0 & 0 & 0 & 0 & 0 & 0 & 0 & 0 & 0 & 0\\\\0 & 0 & 0 & 0 & 0 & 0 & 0 & 0 & 0 & 0\\\\0 & 0 & 0 & 0 & 0 & 0 & 0 & 0 & 0 & 0\\\\0 & 0 & 0 & 0 & 0 & 0 & 0 & 0 & 0 & 0\\\\0 & 0 & 0 & 0 & 0 & 0 & 0 & 0 & 0 & 0\\\\0 & 0 & 0 & 0 & 0 & 0 & 0 & 0 & 0 & 0\\\\0 & 0 & 0 & 0 & 0 & 0 & 0 & 0 & 0 & 0\\\\0 & 0 & 0 & 0 & 0 & 0 & 0 & 0 & 0 & 0\\end{matrix}\\right]$",
            "text/plain": [
              "Matrix([\n",
              "[0, 0, 0, 0, 0, 0, 0, 0, 0, 0],\n",
              "[0, 0, 0, 0, 0, 0, 0, 0, 0, 0],\n",
              "[0, 0, 0, 0, 0, 0, 0, 0, 0, 0],\n",
              "[0, 0, 0, 0, 0, 0, 0, 0, 0, 0],\n",
              "[0, 0, 0, 0, 0, 0, 0, 0, 0, 0],\n",
              "[0, 0, 0, 0, 0, 0, 0, 0, 0, 0],\n",
              "[0, 0, 0, 0, 0, 0, 0, 0, 0, 0],\n",
              "[0, 0, 0, 0, 0, 0, 0, 0, 0, 0],\n",
              "[0, 0, 0, 0, 0, 0, 0, 0, 0, 0],\n",
              "[0, 0, 0, 0, 0, 0, 0, 0, 0, 0]])"
            ]
          },
          "metadata": {},
          "execution_count": 9
        }
      ]
    },
    {
      "cell_type": "code",
      "metadata": {
        "colab": {
          "base_uri": "https://localhost:8080/",
          "height": 99
        },
        "id": "WsP_8QQNQByp",
        "outputId": "5ff8a177-549b-43fb-b3ae-5973edae8642"
      },
      "source": [
        "unos = sy.ones(4)\n",
        "unos"
      ],
      "execution_count": 10,
      "outputs": [
        {
          "output_type": "execute_result",
          "data": {
            "text/latex": "$\\displaystyle \\left[\\begin{matrix}1 & 1 & 1 & 1\\\\1 & 1 & 1 & 1\\\\1 & 1 & 1 & 1\\\\1 & 1 & 1 & 1\\end{matrix}\\right]$",
            "text/plain": [
              "Matrix([\n",
              "[1, 1, 1, 1],\n",
              "[1, 1, 1, 1],\n",
              "[1, 1, 1, 1],\n",
              "[1, 1, 1, 1]])"
            ]
          },
          "metadata": {},
          "execution_count": 10
        }
      ]
    },
    {
      "cell_type": "code",
      "metadata": {
        "colab": {
          "base_uri": "https://localhost:8080/",
          "height": 79
        },
        "id": "KF9F1NCqQUs5",
        "outputId": "26f5cde3-96a4-4115-84f4-f2175becfa9e"
      },
      "source": [
        "D = sy.diag(1,2,3)\n",
        "D"
      ],
      "execution_count": 11,
      "outputs": [
        {
          "output_type": "execute_result",
          "data": {
            "text/latex": "$\\displaystyle \\left[\\begin{matrix}1 & 0 & 0\\\\0 & 2 & 0\\\\0 & 0 & 3\\end{matrix}\\right]$",
            "text/plain": [
              "Matrix([\n",
              "[1, 0, 0],\n",
              "[0, 2, 0],\n",
              "[0, 0, 3]])"
            ]
          },
          "metadata": {},
          "execution_count": 11
        }
      ]
    },
    {
      "cell_type": "markdown",
      "metadata": {
        "id": "F4AITKgdG8Sb"
      },
      "source": [
        "Podríamos querer realizar entre estos elementos las operaciones básicas:\n",
        "\n"
      ]
    },
    {
      "cell_type": "code",
      "metadata": {
        "colab": {
          "base_uri": "https://localhost:8080/",
          "height": 79
        },
        "id": "_HeeyZCkIxGE",
        "outputId": "f0a8a5cf-fcc2-4a8f-bb40-79ed4236703f"
      },
      "source": [
        "SUMA = M1+M1\n",
        "SUMA"
      ],
      "execution_count": 12,
      "outputs": [
        {
          "output_type": "execute_result",
          "data": {
            "text/latex": "$\\displaystyle \\left[\\begin{matrix}2 & 4 & 6\\\\8 & 10 & 12\\\\14 & 16 & 18\\end{matrix}\\right]$",
            "text/plain": [
              "Matrix([\n",
              "[ 2,  4,  6],\n",
              "[ 8, 10, 12],\n",
              "[14, 16, 18]])"
            ]
          },
          "metadata": {},
          "execution_count": 12
        }
      ]
    },
    {
      "cell_type": "code",
      "metadata": {
        "colab": {
          "base_uri": "https://localhost:8080/",
          "height": 79
        },
        "id": "D2zj_fKnI2t7",
        "outputId": "8948d28d-e84c-49e9-f0b9-aa99a425402d"
      },
      "source": [
        "DIF = M1-M1\n",
        "DIF"
      ],
      "execution_count": 13,
      "outputs": [
        {
          "output_type": "execute_result",
          "data": {
            "text/latex": "$\\displaystyle \\left[\\begin{matrix}0 & 0 & 0\\\\0 & 0 & 0\\\\0 & 0 & 0\\end{matrix}\\right]$",
            "text/plain": [
              "Matrix([\n",
              "[0, 0, 0],\n",
              "[0, 0, 0],\n",
              "[0, 0, 0]])"
            ]
          },
          "metadata": {},
          "execution_count": 13
        }
      ]
    },
    {
      "cell_type": "code",
      "metadata": {
        "id": "i-EUP6QpoLH7",
        "colab": {
          "base_uri": "https://localhost:8080/",
          "height": 79
        },
        "outputId": "5c67fcad-22fa-416f-d531-a96f4ed4b82d"
      },
      "source": [
        "A = M1*M2\n",
        "A"
      ],
      "execution_count": 14,
      "outputs": [
        {
          "output_type": "execute_result",
          "data": {
            "text/latex": "$\\displaystyle \\left[\\begin{matrix}46 & 28 & 10\\\\118 & 73 & 28\\\\190 & 118 & 46\\end{matrix}\\right]$",
            "text/plain": [
              "Matrix([\n",
              "[ 46,  28, 10],\n",
              "[118,  73, 28],\n",
              "[190, 118, 46]])"
            ]
          },
          "metadata": {},
          "execution_count": 14
        }
      ]
    },
    {
      "cell_type": "code",
      "metadata": {
        "colab": {
          "base_uri": "https://localhost:8080/",
          "height": 79
        },
        "id": "aF0qAWaqM4_k",
        "outputId": "ee3c2f55-6751-4bac-9494-c0b87c825fdf"
      },
      "source": [
        "A2 = M1**2\n",
        "A2"
      ],
      "execution_count": 15,
      "outputs": [
        {
          "output_type": "execute_result",
          "data": {
            "text/latex": "$\\displaystyle \\left[\\begin{matrix}30 & 36 & 42\\\\66 & 81 & 96\\\\102 & 126 & 150\\end{matrix}\\right]$",
            "text/plain": [
              "Matrix([\n",
              "[ 30,  36,  42],\n",
              "[ 66,  81,  96],\n",
              "[102, 126, 150]])"
            ]
          },
          "metadata": {},
          "execution_count": 15
        }
      ]
    },
    {
      "cell_type": "code",
      "metadata": {
        "colab": {
          "base_uri": "https://localhost:8080/",
          "height": 79
        },
        "id": "e5rw6PmtI8zJ",
        "outputId": "6447b393-c9a8-40cb-d804-e772b3b1d024"
      },
      "source": [
        "B = M1*v\n",
        "B"
      ],
      "execution_count": 16,
      "outputs": [
        {
          "output_type": "execute_result",
          "data": {
            "text/latex": "$\\displaystyle \\left[\\begin{matrix}14\\\\32\\\\50\\end{matrix}\\right]$",
            "text/plain": [
              "Matrix([\n",
              "[14],\n",
              "[32],\n",
              "[50]])"
            ]
          },
          "metadata": {},
          "execution_count": 16
        }
      ]
    },
    {
      "cell_type": "markdown",
      "metadata": {
        "id": "152T1uK4t9b9"
      },
      "source": [
        "Obsevar que pasa cuando no dan las dimensiones..."
      ]
    },
    {
      "cell_type": "code",
      "metadata": {
        "colab": {
          "base_uri": "https://localhost:8080/",
          "height": 329
        },
        "id": "MfPIrxnVJGOM",
        "outputId": "03bca2cc-5ba9-41e2-804b-b95724a5f40b"
      },
      "source": [
        "B = M1*w\n",
        "B "
      ],
      "execution_count": 17,
      "outputs": [
        {
          "output_type": "error",
          "ename": "ShapeError",
          "evalue": "ignored",
          "traceback": [
            "\u001b[0;31m---------------------------------------------------------------------------\u001b[0m",
            "\u001b[0;31mShapeError\u001b[0m                                Traceback (most recent call last)",
            "\u001b[0;32m<ipython-input-17-61a6ec85d068>\u001b[0m in \u001b[0;36m<module>\u001b[0;34m()\u001b[0m\n\u001b[0;32m----> 1\u001b[0;31m \u001b[0mB\u001b[0m \u001b[0;34m=\u001b[0m \u001b[0mM1\u001b[0m\u001b[0;34m*\u001b[0m\u001b[0mw\u001b[0m\u001b[0;34m\u001b[0m\u001b[0;34m\u001b[0m\u001b[0m\n\u001b[0m\u001b[1;32m      2\u001b[0m \u001b[0mB\u001b[0m\u001b[0;34m\u001b[0m\u001b[0;34m\u001b[0m\u001b[0m\n",
            "\u001b[0;32m/usr/local/lib/python3.7/dist-packages/sympy/core/decorators.py\u001b[0m in \u001b[0;36mbinary_op_wrapper\u001b[0;34m(self, other)\u001b[0m\n\u001b[1;32m    135\u001b[0m                     \u001b[0;32mif\u001b[0m \u001b[0mf\u001b[0m \u001b[0;32mis\u001b[0m \u001b[0;32mnot\u001b[0m \u001b[0;32mNone\u001b[0m\u001b[0;34m:\u001b[0m\u001b[0;34m\u001b[0m\u001b[0;34m\u001b[0m\u001b[0m\n\u001b[1;32m    136\u001b[0m                         \u001b[0;32mreturn\u001b[0m \u001b[0mf\u001b[0m\u001b[0;34m(\u001b[0m\u001b[0mself\u001b[0m\u001b[0;34m)\u001b[0m\u001b[0;34m\u001b[0m\u001b[0;34m\u001b[0m\u001b[0m\n\u001b[0;32m--> 137\u001b[0;31m             \u001b[0;32mreturn\u001b[0m \u001b[0mfunc\u001b[0m\u001b[0;34m(\u001b[0m\u001b[0mself\u001b[0m\u001b[0;34m,\u001b[0m \u001b[0mother\u001b[0m\u001b[0;34m)\u001b[0m\u001b[0;34m\u001b[0m\u001b[0;34m\u001b[0m\u001b[0m\n\u001b[0m\u001b[1;32m    138\u001b[0m         \u001b[0;32mreturn\u001b[0m \u001b[0mbinary_op_wrapper\u001b[0m\u001b[0;34m\u001b[0m\u001b[0;34m\u001b[0m\u001b[0m\n\u001b[1;32m    139\u001b[0m     \u001b[0;32mreturn\u001b[0m \u001b[0mpriority_decorator\u001b[0m\u001b[0;34m\u001b[0m\u001b[0;34m\u001b[0m\u001b[0m\n",
            "\u001b[0;32m/usr/local/lib/python3.7/dist-packages/sympy/matrices/common.py\u001b[0m in \u001b[0;36m__mul__\u001b[0;34m(self, other)\u001b[0m\n\u001b[1;32m   2605\u001b[0m         \"\"\"\n\u001b[1;32m   2606\u001b[0m \u001b[0;34m\u001b[0m\u001b[0m\n\u001b[0;32m-> 2607\u001b[0;31m         \u001b[0;32mreturn\u001b[0m \u001b[0mself\u001b[0m\u001b[0;34m.\u001b[0m\u001b[0mmultiply\u001b[0m\u001b[0;34m(\u001b[0m\u001b[0mother\u001b[0m\u001b[0;34m)\u001b[0m\u001b[0;34m\u001b[0m\u001b[0;34m\u001b[0m\u001b[0m\n\u001b[0m\u001b[1;32m   2608\u001b[0m \u001b[0;34m\u001b[0m\u001b[0m\n\u001b[1;32m   2609\u001b[0m     \u001b[0;32mdef\u001b[0m \u001b[0mmultiply\u001b[0m\u001b[0;34m(\u001b[0m\u001b[0mself\u001b[0m\u001b[0;34m,\u001b[0m \u001b[0mother\u001b[0m\u001b[0;34m,\u001b[0m \u001b[0mdotprodsimp\u001b[0m\u001b[0;34m=\u001b[0m\u001b[0;32mNone\u001b[0m\u001b[0;34m)\u001b[0m\u001b[0;34m:\u001b[0m\u001b[0;34m\u001b[0m\u001b[0;34m\u001b[0m\u001b[0m\n",
            "\u001b[0;32m/usr/local/lib/python3.7/dist-packages/sympy/matrices/common.py\u001b[0m in \u001b[0;36mmultiply\u001b[0;34m(self, other, dotprodsimp)\u001b[0m\n\u001b[1;32m   2628\u001b[0m             \u001b[0;32mif\u001b[0m \u001b[0mself\u001b[0m\u001b[0;34m.\u001b[0m\u001b[0mshape\u001b[0m\u001b[0;34m[\u001b[0m\u001b[0;36m1\u001b[0m\u001b[0;34m]\u001b[0m \u001b[0;34m!=\u001b[0m \u001b[0mother\u001b[0m\u001b[0;34m.\u001b[0m\u001b[0mshape\u001b[0m\u001b[0;34m[\u001b[0m\u001b[0;36m0\u001b[0m\u001b[0;34m]\u001b[0m\u001b[0;34m:\u001b[0m\u001b[0;34m\u001b[0m\u001b[0;34m\u001b[0m\u001b[0m\n\u001b[1;32m   2629\u001b[0m                 raise ShapeError(\"Matrix size mismatch: %s * %s.\" % (\n\u001b[0;32m-> 2630\u001b[0;31m                     self.shape, other.shape))\n\u001b[0m\u001b[1;32m   2631\u001b[0m \u001b[0;34m\u001b[0m\u001b[0m\n\u001b[1;32m   2632\u001b[0m         \u001b[0;31m# honest sympy matrices defer to their class's routine\u001b[0m\u001b[0;34m\u001b[0m\u001b[0;34m\u001b[0m\u001b[0;34m\u001b[0m\u001b[0m\n",
            "\u001b[0;31mShapeError\u001b[0m: Matrix size mismatch: (3, 3) * (1, 3)."
          ]
        }
      ]
    },
    {
      "cell_type": "code",
      "metadata": {
        "colab": {
          "base_uri": "https://localhost:8080/",
          "height": 79
        },
        "id": "xv91HRl7JPE5",
        "outputId": "0182a68a-f1e9-460d-9580-04dd5fdd6182"
      },
      "source": [
        "c = v * w\n",
        "c"
      ],
      "execution_count": 18,
      "outputs": [
        {
          "output_type": "execute_result",
          "data": {
            "text/latex": "$\\displaystyle \\left[\\begin{matrix}1 & 2 & 3\\\\2 & 4 & 6\\\\3 & 6 & 9\\end{matrix}\\right]$",
            "text/plain": [
              "Matrix([\n",
              "[1, 2, 3],\n",
              "[2, 4, 6],\n",
              "[3, 6, 9]])"
            ]
          },
          "metadata": {},
          "execution_count": 18
        }
      ]
    },
    {
      "cell_type": "code",
      "metadata": {
        "colab": {
          "base_uri": "https://localhost:8080/",
          "height": 39
        },
        "id": "xe-XJNFpJUQh",
        "outputId": "0f4cbeba-08bb-4122-a713-2ddee411b129"
      },
      "source": [
        "c1 = w *v\n",
        "c1"
      ],
      "execution_count": 19,
      "outputs": [
        {
          "output_type": "execute_result",
          "data": {
            "text/latex": "$\\displaystyle \\left[\\begin{matrix}14\\end{matrix}\\right]$",
            "text/plain": [
              "Matrix([[14]])"
            ]
          },
          "metadata": {},
          "execution_count": 19
        }
      ]
    },
    {
      "cell_type": "code",
      "metadata": {
        "colab": {
          "base_uri": "https://localhost:8080/",
          "height": 37
        },
        "id": "PbJrrfxdQARZ",
        "outputId": "c82e78da-0e54-4c91-f618-3ea568d4f516"
      },
      "source": [
        "M1.det()"
      ],
      "execution_count": 20,
      "outputs": [
        {
          "output_type": "execute_result",
          "data": {
            "text/latex": "$\\displaystyle 0$",
            "text/plain": [
              "0"
            ]
          },
          "metadata": {},
          "execution_count": 20
        }
      ]
    },
    {
      "cell_type": "code",
      "metadata": {
        "colab": {
          "base_uri": "https://localhost:8080/",
          "height": 119
        },
        "id": "I8leSJPKTNTk",
        "outputId": "3c0a7f34-5971-4ed5-d3fc-45bda3bdca70"
      },
      "source": [
        "I.inv()"
      ],
      "execution_count": 21,
      "outputs": [
        {
          "output_type": "execute_result",
          "data": {
            "text/latex": "$\\displaystyle \\left[\\begin{matrix}1 & 0 & 0 & 0 & 0\\\\0 & 1 & 0 & 0 & 0\\\\0 & 0 & 1 & 0 & 0\\\\0 & 0 & 0 & 1 & 0\\\\0 & 0 & 0 & 0 & 1\\end{matrix}\\right]$",
            "text/plain": [
              "Matrix([\n",
              "[1, 0, 0, 0, 0],\n",
              "[0, 1, 0, 0, 0],\n",
              "[0, 0, 1, 0, 0],\n",
              "[0, 0, 0, 1, 0],\n",
              "[0, 0, 0, 0, 1]])"
            ]
          },
          "metadata": {},
          "execution_count": 21
        }
      ]
    },
    {
      "cell_type": "code",
      "metadata": {
        "colab": {
          "base_uri": "https://localhost:8080/",
          "height": 79
        },
        "id": "Ko-XYUD2WUZJ",
        "outputId": "12a6a7a8-7b1a-4905-ebfa-1a6f85ea18cb"
      },
      "source": [
        "M1.T\n"
      ],
      "execution_count": 22,
      "outputs": [
        {
          "output_type": "execute_result",
          "data": {
            "text/latex": "$\\displaystyle \\left[\\begin{matrix}1 & 4 & 7\\\\2 & 5 & 8\\\\3 & 6 & 9\\end{matrix}\\right]$",
            "text/plain": [
              "Matrix([\n",
              "[1, 4, 7],\n",
              "[2, 5, 8],\n",
              "[3, 6, 9]])"
            ]
          },
          "metadata": {},
          "execution_count": 22
        }
      ]
    },
    {
      "cell_type": "markdown",
      "metadata": {
        "id": "pw0UvX-vMxFI"
      },
      "source": [
        "### Métodos avanzados\n",
        "\n",
        "\n",
        "\n"
      ]
    },
    {
      "cell_type": "markdown",
      "metadata": {
        "id": "Y1fzeeZsmG4A"
      },
      "source": [
        "#### Reducción de matrices\n",
        "\n",
        "Una de las herramientas mas importante que vimos en el curso previo de álgebra es como llevar una matriz a su reducida por filas y escalonada. Para esto Sympy cuenta con una función que no solo devuelve la matriz reducida, sino que también nos dice los ejes pivotales."
      ]
    },
    {
      "cell_type": "code",
      "metadata": {
        "colab": {
          "base_uri": "https://localhost:8080/"
        },
        "id": "fcsQ6occYE58",
        "outputId": "77355143-d6fb-4e77-b993-37d1a7a77cf3"
      },
      "source": [
        "RED = M1.rref()\n",
        "RED"
      ],
      "execution_count": 23,
      "outputs": [
        {
          "output_type": "execute_result",
          "data": {
            "text/plain": [
              "(Matrix([\n",
              " [1, 0, -1],\n",
              " [0, 1,  2],\n",
              " [0, 0,  0]]), (0, 1))"
            ]
          },
          "metadata": {},
          "execution_count": 23
        }
      ]
    },
    {
      "cell_type": "markdown",
      "metadata": {
        "id": "jRM89Qj7vSMO"
      },
      "source": [
        "Para esto hacemos lo siguiente:"
      ]
    },
    {
      "cell_type": "code",
      "metadata": {
        "colab": {
          "base_uri": "https://localhost:8080/",
          "height": 96
        },
        "id": "PXkL2ux7u1L2",
        "outputId": "57bfc6dd-1183-44f1-e9c3-6df86a3e62f1"
      },
      "source": [
        "print('Matriz reucida:')\n",
        "RED[0]\n"
      ],
      "execution_count": 24,
      "outputs": [
        {
          "output_type": "stream",
          "name": "stdout",
          "text": [
            "Matriz reucida:\n"
          ]
        },
        {
          "output_type": "execute_result",
          "data": {
            "text/latex": "$\\displaystyle \\left[\\begin{matrix}1 & 0 & -1\\\\0 & 1 & 2\\\\0 & 0 & 0\\end{matrix}\\right]$",
            "text/plain": [
              "Matrix([\n",
              "[1, 0, -1],\n",
              "[0, 1,  2],\n",
              "[0, 0,  0]])"
            ]
          },
          "metadata": {},
          "execution_count": 24
        }
      ]
    },
    {
      "cell_type": "markdown",
      "metadata": {
        "id": "8cn7IR7dvKjc"
      },
      "source": [
        "y los pivots mediante:"
      ]
    },
    {
      "cell_type": "code",
      "metadata": {
        "colab": {
          "base_uri": "https://localhost:8080/"
        },
        "id": "YPd6x2lbva_r",
        "outputId": "6379e227-cc8b-47bd-c932-6960a3b008ee"
      },
      "source": [
        "print('Pivots:')\n",
        "RED[1]\n"
      ],
      "execution_count": 25,
      "outputs": [
        {
          "output_type": "stream",
          "name": "stdout",
          "text": [
            "Pivots:\n"
          ]
        },
        {
          "output_type": "execute_result",
          "data": {
            "text/plain": [
              "(0, 1)"
            ]
          },
          "metadata": {},
          "execution_count": 25
        }
      ]
    },
    {
      "cell_type": "markdown",
      "metadata": {
        "id": "i-J05pk84n3r"
      },
      "source": [
        "Otra forma es directamente pasando como argumento la opción `pivots=False` :"
      ]
    },
    {
      "cell_type": "code",
      "metadata": {
        "colab": {
          "base_uri": "https://localhost:8080/",
          "height": 79
        },
        "id": "i1f5zJRPSDfx",
        "outputId": "bddad91f-f544-4525-dd96-fea9984e0226"
      },
      "source": [
        "RED = M1.rref(pivots=False)\n",
        "RED"
      ],
      "execution_count": 26,
      "outputs": [
        {
          "output_type": "execute_result",
          "data": {
            "text/latex": "$\\displaystyle \\left[\\begin{matrix}1 & 0 & -1\\\\0 & 1 & 2\\\\0 & 0 & 0\\end{matrix}\\right]$",
            "text/plain": [
              "Matrix([\n",
              "[1, 0, -1],\n",
              "[0, 1,  2],\n",
              "[0, 0,  0]])"
            ]
          },
          "metadata": {},
          "execution_count": 26
        }
      ]
    },
    {
      "cell_type": "markdown",
      "metadata": {
        "id": "VbxbwDC-SDIF"
      },
      "source": [
        "#### Espacios fundamentales\n",
        "\n",
        "Otro concepto fundamental son los espacios fundamentales de una matriz A "
      ]
    },
    {
      "cell_type": "code",
      "metadata": {
        "colab": {
          "base_uri": "https://localhost:8080/",
          "height": 87
        },
        "id": "E0S7f18IVZwm",
        "outputId": "35994c1f-c27f-464d-8bb2-505582ade818"
      },
      "source": [
        "res = M1.nullspace()\n",
        "display(res)"
      ],
      "execution_count": 27,
      "outputs": [
        {
          "output_type": "display_data",
          "data": {
            "text/plain": [
              "[Matrix([\n",
              " [ 1],\n",
              " [-2],\n",
              " [ 1]])]"
            ]
          },
          "metadata": {}
        }
      ]
    },
    {
      "cell_type": "code",
      "metadata": {
        "colab": {
          "base_uri": "https://localhost:8080/"
        },
        "id": "iA1QvQaoWuzS",
        "outputId": "e316c406-6d21-42e3-fbdd-ccd3be16c3b6"
      },
      "source": [
        "esp_fil = M1.rowspace()\n",
        "esp_fil"
      ],
      "execution_count": 28,
      "outputs": [
        {
          "output_type": "execute_result",
          "data": {
            "text/plain": [
              "[Matrix([[1, 2, 3]]), Matrix([[0, -3, -6]])]"
            ]
          },
          "metadata": {},
          "execution_count": 28
        }
      ]
    },
    {
      "cell_type": "code",
      "metadata": {
        "colab": {
          "base_uri": "https://localhost:8080/"
        },
        "id": "6LR57M0YZ5oy",
        "outputId": "fc933b7c-8f9b-4cef-ce75-2b04df5308ee"
      },
      "source": [
        "esp_col = M1.columnspace()\n",
        "esp_col"
      ],
      "execution_count": 29,
      "outputs": [
        {
          "output_type": "execute_result",
          "data": {
            "text/plain": [
              "[Matrix([\n",
              " [1],\n",
              " [4],\n",
              " [7]]), Matrix([\n",
              " [2],\n",
              " [5],\n",
              " [8]])]"
            ]
          },
          "metadata": {},
          "execution_count": 29
        }
      ]
    },
    {
      "cell_type": "code",
      "metadata": {
        "colab": {
          "base_uri": "https://localhost:8080/",
          "height": 99
        },
        "id": "eFnIRg44U4DC",
        "outputId": "15d58258-aaf2-4f31-955f-363fb5d5896f"
      },
      "source": [
        "A = sy.Matrix([[-2,-5,8,0,-17],[1,3,-5,1,5],[3,11,-19,7,1],[1,7,-13,5,-3]])\n",
        "A"
      ],
      "execution_count": 30,
      "outputs": [
        {
          "output_type": "execute_result",
          "data": {
            "text/latex": "$\\displaystyle \\left[\\begin{matrix}-2 & -5 & 8 & 0 & -17\\\\1 & 3 & -5 & 1 & 5\\\\3 & 11 & -19 & 7 & 1\\\\1 & 7 & -13 & 5 & -3\\end{matrix}\\right]$",
            "text/plain": [
              "Matrix([\n",
              "[-2, -5,   8, 0, -17],\n",
              "[ 1,  3,  -5, 1,   5],\n",
              "[ 3, 11, -19, 7,   1],\n",
              "[ 1,  7, -13, 5,  -3]])"
            ]
          },
          "metadata": {},
          "execution_count": 30
        }
      ]
    },
    {
      "cell_type": "code",
      "metadata": {
        "colab": {
          "base_uri": "https://localhost:8080/",
          "height": 79
        },
        "id": "pPOemEJgfxhv",
        "outputId": "ba7d856d-9713-4670-d213-af581b4c050f"
      },
      "source": [
        "y = sy.Matrix([[-1,2],[3,-6],[-2,4]])\n",
        "y"
      ],
      "execution_count": 31,
      "outputs": [
        {
          "output_type": "execute_result",
          "data": {
            "text/latex": "$\\displaystyle \\left[\\begin{matrix}-1 & 2\\\\3 & -6\\\\-2 & 4\\end{matrix}\\right]$",
            "text/plain": [
              "Matrix([\n",
              "[-1,  2],\n",
              "[ 3, -6],\n",
              "[-2,  4]])"
            ]
          },
          "metadata": {},
          "execution_count": 31
        }
      ]
    },
    {
      "cell_type": "code",
      "metadata": {
        "colab": {
          "base_uri": "https://localhost:8080/"
        },
        "id": "HysHAir2gDSr",
        "outputId": "4b3fe02c-7496-43ab-a32e-344517d6228b"
      },
      "source": [
        "esp_c = y.columnspace()\n",
        "esp_c"
      ],
      "execution_count": 32,
      "outputs": [
        {
          "output_type": "execute_result",
          "data": {
            "text/plain": [
              "[Matrix([\n",
              " [-1],\n",
              " [ 3],\n",
              " [-2]])]"
            ]
          },
          "metadata": {},
          "execution_count": 32
        }
      ]
    },
    {
      "cell_type": "code",
      "metadata": {
        "colab": {
          "base_uri": "https://localhost:8080/"
        },
        "id": "az8wPrJMgLy-",
        "outputId": "11b46c21-207d-4e89-cd3c-796f660db52d"
      },
      "source": [
        "esp_f = y.rowspace()\n",
        "esp_f"
      ],
      "execution_count": 33,
      "outputs": [
        {
          "output_type": "execute_result",
          "data": {
            "text/plain": [
              "[Matrix([[-1, 2]])]"
            ]
          },
          "metadata": {},
          "execution_count": 33
        }
      ]
    },
    {
      "cell_type": "code",
      "metadata": {
        "colab": {
          "base_uri": "https://localhost:8080/"
        },
        "id": "JDRi-xhtgRu-",
        "outputId": "d20b1ffc-a709-4921-e2e5-5f03b04ad1e1"
      },
      "source": [
        "esp_n = y.nullspace()\n",
        "esp_n"
      ],
      "execution_count": 34,
      "outputs": [
        {
          "output_type": "execute_result",
          "data": {
            "text/plain": [
              "[Matrix([\n",
              " [2],\n",
              " [1]])]"
            ]
          },
          "metadata": {},
          "execution_count": 34
        }
      ]
    },
    {
      "cell_type": "markdown",
      "metadata": {
        "id": "Ux8WIOh5gbFP"
      },
      "source": [
        "Ahora, veamos las propiedades vistas en la teoría:"
      ]
    },
    {
      "cell_type": "code",
      "metadata": {
        "colab": {
          "base_uri": "https://localhost:8080/",
          "height": 57
        },
        "id": "Gls-Etl9ggr-",
        "outputId": "9aa21f41-ace8-49a5-ab3e-a03e1a8dcff6"
      },
      "source": [
        "yt = y.T\n",
        "yt"
      ],
      "execution_count": 35,
      "outputs": [
        {
          "output_type": "execute_result",
          "data": {
            "text/latex": "$\\displaystyle \\left[\\begin{matrix}-1 & 3 & -2\\\\2 & -6 & 4\\end{matrix}\\right]$",
            "text/plain": [
              "Matrix([\n",
              "[-1,  3, -2],\n",
              "[ 2, -6,  4]])"
            ]
          },
          "metadata": {},
          "execution_count": 35
        }
      ]
    },
    {
      "cell_type": "markdown",
      "metadata": {
        "id": "ksC5JlXOgkCg"
      },
      "source": [
        "$$col(A^T)=fil(A)$$"
      ]
    },
    {
      "cell_type": "code",
      "metadata": {
        "colab": {
          "base_uri": "https://localhost:8080/"
        },
        "id": "np5kfQNpgqIb",
        "outputId": "61762e17-edcd-457a-db86-c5f0175dbf0e"
      },
      "source": [
        "prop1 = yt.columnspace()\n",
        "prop1"
      ],
      "execution_count": 36,
      "outputs": [
        {
          "output_type": "execute_result",
          "data": {
            "text/plain": [
              "[Matrix([\n",
              " [-1],\n",
              " [ 2]])]"
            ]
          },
          "metadata": {},
          "execution_count": 36
        }
      ]
    },
    {
      "cell_type": "markdown",
      "metadata": {
        "id": "C0cdjB2hhbTk"
      },
      "source": [
        "$$fil(A^T)=col(A)$$"
      ]
    },
    {
      "cell_type": "code",
      "metadata": {
        "colab": {
          "base_uri": "https://localhost:8080/"
        },
        "id": "IppcR7-4iBeY",
        "outputId": "177ca1ad-e103-47b5-fe5b-f6a7c86c7d7b"
      },
      "source": [
        "prop2 = yt.rowspace()\n",
        "prop2"
      ],
      "execution_count": 37,
      "outputs": [
        {
          "output_type": "execute_result",
          "data": {
            "text/plain": [
              "[Matrix([[-1, 3, -2]])]"
            ]
          },
          "metadata": {},
          "execution_count": 37
        }
      ]
    }
  ]
}